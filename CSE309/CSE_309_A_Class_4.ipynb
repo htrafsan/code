{
  "nbformat": 4,
  "nbformat_minor": 0,
  "metadata": {
    "colab": {
      "name": "CSE_309_A_Class_4.ipynb",
      "provenance": []
    },
    "kernelspec": {
      "name": "python3",
      "display_name": "Python 3"
    }
  },
  "cells": [
    {
      "cell_type": "markdown",
      "metadata": {
        "id": "atnI_3-Opdjd"
      },
      "source": [
        "**Indexing and Slicing**"
      ]
    },
    {
      "cell_type": "code",
      "metadata": {
        "id": "SVWF__VIm7xT"
      },
      "source": [
        "L = [1, 10, 30, 4, -5]"
      ],
      "execution_count": null,
      "outputs": []
    },
    {
      "cell_type": "code",
      "metadata": {
        "id": "8lRade4HnUon",
        "colab": {
          "base_uri": "https://localhost:8080/",
          "height": 34
        },
        "outputId": "5dcd64ce-ae3f-4744-8c6d-0898e1acdb11"
      },
      "source": [
        "L[2 : 4 : 2]"
      ],
      "execution_count": null,
      "outputs": [
        {
          "output_type": "execute_result",
          "data": {
            "text/plain": [
              "[30]"
            ]
          },
          "metadata": {
            "tags": []
          },
          "execution_count": 2
        }
      ]
    },
    {
      "cell_type": "markdown",
      "metadata": {
        "id": "zJ8R_ChLnzk6"
      },
      "source": [
        "\n",
        "\n",
        "```\n",
        "for (int i=2; i<4; i+=2){\n",
        "  print(L[i])\n",
        "}\n",
        "```\n",
        "\n"
      ]
    },
    {
      "cell_type": "code",
      "metadata": {
        "id": "FiMupIEPoHwR",
        "colab": {
          "base_uri": "https://localhost:8080/",
          "height": 162
        },
        "outputId": "8d22575c-4432-4892-9e4a-04b674b63f7a"
      },
      "source": [
        "L[10]"
      ],
      "execution_count": null,
      "outputs": [
        {
          "output_type": "error",
          "ename": "IndexError",
          "evalue": "ignored",
          "traceback": [
            "\u001b[0;31m---------------------------------------------------------------------------\u001b[0m",
            "\u001b[0;31mIndexError\u001b[0m                                Traceback (most recent call last)",
            "\u001b[0;32m<ipython-input-3-938ebafcbf1e>\u001b[0m in \u001b[0;36m<module>\u001b[0;34m()\u001b[0m\n\u001b[0;32m----> 1\u001b[0;31m \u001b[0mL\u001b[0m\u001b[0;34m[\u001b[0m\u001b[0;36m10\u001b[0m\u001b[0;34m]\u001b[0m\u001b[0;34m\u001b[0m\u001b[0;34m\u001b[0m\u001b[0m\n\u001b[0m",
            "\u001b[0;31mIndexError\u001b[0m: list index out of range"
          ]
        }
      ]
    },
    {
      "cell_type": "code",
      "metadata": {
        "id": "jkMMvt1FoN5S",
        "colab": {
          "base_uri": "https://localhost:8080/",
          "height": 34
        },
        "outputId": "056d5d8f-3dc0-46de-d819-41def38a207f"
      },
      "source": [
        "L[0 : 10 : 1]"
      ],
      "execution_count": null,
      "outputs": [
        {
          "output_type": "execute_result",
          "data": {
            "text/plain": [
              "[1, 10, 30, 4, -5]"
            ]
          },
          "metadata": {
            "tags": []
          },
          "execution_count": 4
        }
      ]
    },
    {
      "cell_type": "code",
      "metadata": {
        "id": "JkGVRJZ8odEY",
        "colab": {
          "base_uri": "https://localhost:8080/",
          "height": 34
        },
        "outputId": "e9a901f4-03fe-4e77-a507-08c91904cad5"
      },
      "source": [
        "L[0 : len(L) : 1]"
      ],
      "execution_count": null,
      "outputs": [
        {
          "output_type": "execute_result",
          "data": {
            "text/plain": [
              "[1, 10, 30, 4, -5]"
            ]
          },
          "metadata": {
            "tags": []
          },
          "execution_count": 5
        }
      ]
    },
    {
      "cell_type": "code",
      "metadata": {
        "id": "H6AHfqYmof_B",
        "colab": {
          "base_uri": "https://localhost:8080/",
          "height": 34
        },
        "outputId": "ab16b558-1351-4778-9a38-aae9366782c6"
      },
      "source": [
        "L[10: 300: 1]"
      ],
      "execution_count": null,
      "outputs": [
        {
          "output_type": "execute_result",
          "data": {
            "text/plain": [
              "[]"
            ]
          },
          "metadata": {
            "tags": []
          },
          "execution_count": 6
        }
      ]
    },
    {
      "cell_type": "markdown",
      "metadata": {
        "id": "UBx4g5ojoUhR"
      },
      "source": [
        "\n",
        "\n",
        "```\n",
        "for (int i=2; i< min( 10, len(L) ); i+=2){\n",
        "  print(L[i])\n",
        "}\n",
        "```\n",
        "\n"
      ]
    },
    {
      "cell_type": "markdown",
      "metadata": {
        "id": "e1amtnVbpkIR"
      },
      "source": [
        "**Conditional (if-else)**"
      ]
    },
    {
      "cell_type": "markdown",
      "metadata": {
        "id": "u5wRyUnWpszf"
      },
      "source": [
        "Indentation (space) is very important"
      ]
    },
    {
      "cell_type": "code",
      "metadata": {
        "id": "OFV1cwSbpqGv",
        "colab": {
          "base_uri": "https://localhost:8080/",
          "height": 50
        },
        "outputId": "7905d025-8800-407b-862c-b280cf808990"
      },
      "source": [
        "x = int(input())\n",
        "\n",
        "if (x>0) :\n",
        "  print(\"Positive\")\n",
        "else :\n",
        "  print(\"Negative\")"
      ],
      "execution_count": null,
      "outputs": [
        {
          "output_type": "stream",
          "text": [
            "10\n",
            "Positive\n"
          ],
          "name": "stdout"
        }
      ]
    },
    {
      "cell_type": "markdown",
      "metadata": {
        "id": "NRnfmrveqLkL"
      },
      "source": [
        "\n",
        "```\n",
        "if < statement - (True/False) > : \n",
        "  <statement>\n",
        "  <statement>\n",
        "  <statement>\n",
        "  <statement>\n",
        "  <statement>\n",
        "else:\n",
        "  <statement>\n",
        "  <statement>\n",
        "  <statement>\n",
        "<statement> (This statement is out of else)\n",
        "\n",
        "\n",
        "```\n",
        "\n"
      ]
    },
    {
      "cell_type": "code",
      "metadata": {
        "id": "c5kMjmpZqtq_",
        "colab": {
          "base_uri": "https://localhost:8080/",
          "height": 67
        },
        "outputId": "60a884ab-3c1e-4b47-f9b5-418e63cfce79"
      },
      "source": [
        "x = int(input())\n",
        "\n",
        "if (x>0) :\n",
        "  print(\"Positive\")\n",
        "  print(\"Very Positive\")\n",
        "else :\n",
        "  print(\"Negative\")"
      ],
      "execution_count": null,
      "outputs": [
        {
          "output_type": "stream",
          "text": [
            "10\n",
            "Positive\n",
            "Very Positive\n"
          ],
          "name": "stdout"
        }
      ]
    },
    {
      "cell_type": "code",
      "metadata": {
        "id": "ENKv7qMFrKZW",
        "colab": {
          "base_uri": "https://localhost:8080/",
          "height": 128
        },
        "outputId": "dcc2cf8e-2ab5-4a9c-c14a-7c3605f186d9"
      },
      "source": [
        "x = int(input())\n",
        "\n",
        "if (x>0) :\n",
        "  print(\"Positive\")\n",
        "  print(\"Very Positive\")\n",
        "print(\"This is wrong!\")\n",
        "else :\n",
        "  print(\"Negative\")"
      ],
      "execution_count": null,
      "outputs": [
        {
          "output_type": "error",
          "ename": "SyntaxError",
          "evalue": "ignored",
          "traceback": [
            "\u001b[0;36m  File \u001b[0;32m\"<ipython-input-11-1ef9fc6ead04>\"\u001b[0;36m, line \u001b[0;32m7\u001b[0m\n\u001b[0;31m    else :\u001b[0m\n\u001b[0m       ^\u001b[0m\n\u001b[0;31mSyntaxError\u001b[0m\u001b[0;31m:\u001b[0m invalid syntax\n"
          ]
        }
      ]
    },
    {
      "cell_type": "code",
      "metadata": {
        "id": "I1kjfyHLrYgP",
        "colab": {
          "base_uri": "https://localhost:8080/",
          "height": 50
        },
        "outputId": "dc8baf7b-4ee9-4a04-bce6-c65e37e5a460"
      },
      "source": [
        "x = int(input())\n",
        "\n",
        "if (x>0) :\n",
        "  print(\"Positive\")\n",
        "  print(\"Very Positive\")\n",
        "  \n",
        "print(\"Now this will work fine!\")\n"
      ],
      "execution_count": null,
      "outputs": [
        {
          "output_type": "stream",
          "text": [
            "-10\n",
            "Now this will work fine!\n"
          ],
          "name": "stdout"
        }
      ]
    },
    {
      "cell_type": "code",
      "metadata": {
        "id": "SbNWFgYvrymR",
        "colab": {
          "base_uri": "https://localhost:8080/",
          "height": 128
        },
        "outputId": "bc8cdccb-5070-467f-f4bb-01b765f6d143"
      },
      "source": [
        "x = int(input())\n",
        "\n",
        "if (x>0) :\n",
        "  print(\"Positive\")\n",
        "  print(\"Very Positive\")\n",
        "  print(\"This is wrong!\")\n",
        "  \n",
        "  else :\n",
        "    print(\"Negative\")"
      ],
      "execution_count": null,
      "outputs": [
        {
          "output_type": "error",
          "ename": "SyntaxError",
          "evalue": "ignored",
          "traceback": [
            "\u001b[0;36m  File \u001b[0;32m\"<ipython-input-14-8c1f3b0085f5>\"\u001b[0;36m, line \u001b[0;32m8\u001b[0m\n\u001b[0;31m    else :\u001b[0m\n\u001b[0m       ^\u001b[0m\n\u001b[0;31mSyntaxError\u001b[0m\u001b[0;31m:\u001b[0m invalid syntax\n"
          ]
        }
      ]
    },
    {
      "cell_type": "code",
      "metadata": {
        "id": "2uZLly7XsCMl",
        "colab": {
          "base_uri": "https://localhost:8080/",
          "height": 34
        },
        "outputId": "5d49537d-0e60-4ada-8623-887d425445cf"
      },
      "source": [
        "type(10>0)"
      ],
      "execution_count": null,
      "outputs": [
        {
          "output_type": "execute_result",
          "data": {
            "text/plain": [
              "bool"
            ]
          },
          "metadata": {
            "tags": []
          },
          "execution_count": 15
        }
      ]
    },
    {
      "cell_type": "code",
      "metadata": {
        "id": "3Ft935twst7S",
        "colab": {
          "base_uri": "https://localhost:8080/",
          "height": 54
        },
        "outputId": "bcf0c44e-2ea0-4eb0-f309-60819480bbf5"
      },
      "source": [
        "x = int(input())\n",
        "\n",
        "if(x == 10):\n",
        "  print(\"==\")\n",
        "elif(x > 10):\n",
        "  print(\">\")\n",
        "elif(x < 10):\n",
        "  print(\"<\")\n",
        "elif(x >= 10):\n",
        "  print(\">=\")\n",
        "elif(x <= 10):\n",
        "  print(\"<=\")\n",
        "elif(x != 10):\n",
        "  print(\" != \")\n",
        "else:\n",
        "  print(\"What??\")\n"
      ],
      "execution_count": null,
      "outputs": [
        {
          "output_type": "stream",
          "text": [
            "5\n",
            "<\n"
          ],
          "name": "stdout"
        }
      ]
    },
    {
      "cell_type": "code",
      "metadata": {
        "id": "s49KfbyxtDt9",
        "colab": {
          "base_uri": "https://localhost:8080/",
          "height": 90
        },
        "outputId": "e224462d-2415-4c91-ce89-3cb3a889b3de"
      },
      "source": [
        "x = int(input())\n",
        "\n",
        "if(x == 10):\n",
        "  print(\"==\")\n",
        "if(x > 10):\n",
        "  print(\">\")\n",
        "if(x < 10):\n",
        "  print(\"<\")\n",
        "if(x >= 10):\n",
        "  print(\">=\")\n",
        "if(x <= 10):\n",
        "  print(\"<=\")\n",
        "if(x != 10):\n",
        "  print(\" != \")\n",
        "else:\n",
        "  print(\"What??\")\n"
      ],
      "execution_count": null,
      "outputs": [
        {
          "output_type": "stream",
          "text": [
            "5\n",
            "<\n",
            "<=\n",
            " != \n"
          ],
          "name": "stdout"
        }
      ]
    },
    {
      "cell_type": "code",
      "metadata": {
        "id": "RxImpWyTuYCd",
        "colab": {
          "base_uri": "https://localhost:8080/",
          "height": 104
        },
        "outputId": "3b36888d-89c9-4b9b-82ba-7e7567d056c2"
      },
      "source": [
        "x = int(input())\n",
        "\n",
        "if(x == 10):\n",
        "  print(\"==\")\n",
        "\n",
        "if(x > 10):\n",
        "  print(\">\")\n",
        "\n",
        "if(x < 10):\n",
        "  print(\"<\")\n",
        "\n",
        "if(x >= 10):\n",
        "  print(\">=\")\n",
        "\n",
        "if(x <= 10):\n",
        "  print(\"<=\")\n",
        "  \n",
        "if(x != 10):\n",
        "  print(\" != \")\n",
        "else:\n",
        "  print(\"What??\")"
      ],
      "execution_count": null,
      "outputs": [
        {
          "output_type": "stream",
          "text": [
            "10\n",
            "==\n",
            ">=\n",
            "<=\n",
            "What??\n"
          ],
          "name": "stdout"
        }
      ]
    },
    {
      "cell_type": "code",
      "metadata": {
        "id": "xBgSCkFevD6q",
        "colab": {
          "base_uri": "https://localhost:8080/",
          "height": 131
        },
        "outputId": "ae18abd0-bbb9-437f-9961-98b7304c773e"
      },
      "source": [
        "a = 33\n",
        "b = 200\n",
        "if b > a:\n",
        "print(\"b is greater than a\")"
      ],
      "execution_count": null,
      "outputs": [
        {
          "output_type": "error",
          "ename": "IndentationError",
          "evalue": "ignored",
          "traceback": [
            "\u001b[0;36m  File \u001b[0;32m\"<ipython-input-20-9000bb591814>\"\u001b[0;36m, line \u001b[0;32m4\u001b[0m\n\u001b[0;31m    print(\"b is greater than a\")\u001b[0m\n\u001b[0m        ^\u001b[0m\n\u001b[0;31mIndentationError\u001b[0m\u001b[0;31m:\u001b[0m expected an indented block\n"
          ]
        }
      ]
    },
    {
      "cell_type": "code",
      "metadata": {
        "id": "TIu1hIe3vHuK",
        "colab": {
          "base_uri": "https://localhost:8080/",
          "height": 35
        },
        "outputId": "97a3a12d-e671-4cc8-8f7c-a1587c6c5e30"
      },
      "source": [
        "a = 200\n",
        "b = 1\n",
        "if b > a:\n",
        "  print(\"b is greater than a\")\n",
        "print(\"b is greater than a _ outside if\")"
      ],
      "execution_count": null,
      "outputs": [
        {
          "output_type": "stream",
          "text": [
            "b is greater than a _ outside if\n"
          ],
          "name": "stdout"
        }
      ]
    },
    {
      "cell_type": "markdown",
      "metadata": {
        "id": "kgpBsTeovcfc"
      },
      "source": [
        "# and or"
      ]
    },
    {
      "cell_type": "code",
      "metadata": {
        "id": "ugHI1HiovcDY",
        "colab": {
          "base_uri": "https://localhost:8080/",
          "height": 69
        },
        "outputId": "8d807727-8a41-4437-f652-4c0a848d5de5"
      },
      "source": [
        "x = int(input())\n",
        "\n",
        "if x>5 and x>100:\n",
        "  print(\"1\")\n",
        "elif x>10 and x>20:\n",
        "  print(\"2\")\n",
        "if x>1 or x>30:\n",
        "  print(\"3\")\n",
        "else:\n",
        "  print(\"4\")"
      ],
      "execution_count": null,
      "outputs": [
        {
          "output_type": "stream",
          "text": [
            "200\n",
            "1\n",
            "3\n"
          ],
          "name": "stdout"
        }
      ]
    },
    {
      "cell_type": "code",
      "metadata": {
        "id": "8sXPImaQwun4",
        "colab": {
          "base_uri": "https://localhost:8080/",
          "height": 69
        },
        "outputId": "5b28a848-37a6-4dc2-8833-6cd0d26cc959"
      },
      "source": [
        "x = int(input())\n",
        "\n",
        "if x>5 and x>100:\n",
        "  print(\"1\")\n",
        "elif x>10 and x>20:\n",
        "  print(\"2\")\n",
        "if x>1 or x>30:\n",
        "  print(\"3\")\n",
        "else:\n",
        "  print(\"4\")"
      ],
      "execution_count": null,
      "outputs": [
        {
          "output_type": "stream",
          "text": [
            "25\n",
            "2\n",
            "3\n"
          ],
          "name": "stdout"
        }
      ]
    },
    {
      "cell_type": "code",
      "metadata": {
        "id": "QVtOT3pQyaNq",
        "colab": {
          "base_uri": "https://localhost:8080/",
          "height": 35
        },
        "outputId": "8126aeed-24e0-49f9-f0a9-38a15bfe0fa3"
      },
      "source": [
        "# max(a,b,c)\n",
        "a = int(input())\n",
        "b = int(input())\n",
        "c = int(input())\n",
        "\n",
        "if a>b and a>c:\n",
        "  print(a)\n",
        "elif b>a and b>c:\n",
        "  print(b)\n",
        "else:\n",
        "  print(c)"
      ],
      "execution_count": null,
      "outputs": [
        {
          "output_type": "stream",
          "text": [
            "20\n"
          ],
          "name": "stdout"
        }
      ]
    },
    {
      "cell_type": "markdown",
      "metadata": {
        "id": "9VbdFtYkxPCb"
      },
      "source": [
        "**Nested if**"
      ]
    },
    {
      "cell_type": "code",
      "metadata": {
        "id": "Pt0iL6g5xQej",
        "colab": {
          "base_uri": "https://localhost:8080/",
          "height": 87
        },
        "outputId": "cd774d11-616b-47b4-e690-83a1521473cf"
      },
      "source": [
        "# max(a, b, c)\n",
        "\n",
        "a = int(input())\n",
        "b = int(input())\n",
        "c = int(input())\n",
        "\n",
        "if a>b :\n",
        "  if a>c :\n",
        "    print(a)\n",
        "elif b>a :\n",
        "  if b>c :\n",
        "    print(b)\n",
        "else:\n",
        "  print(c)"
      ],
      "execution_count": null,
      "outputs": [
        {
          "output_type": "stream",
          "text": [
            "10\n",
            "5\n",
            "5\n",
            "10\n"
          ],
          "name": "stdout"
        }
      ]
    },
    {
      "cell_type": "code",
      "metadata": {
        "id": "4S55lAuOyCkn",
        "colab": {
          "base_uri": "https://localhost:8080/",
          "height": 87
        },
        "outputId": "5a9de5ad-f8e9-4d5d-8315-5d0f2e095d51"
      },
      "source": [
        "# max(a, b, c)\n",
        "\n",
        "a = int(input())\n",
        "b = int(input())\n",
        "c = int(input())\n",
        "\n",
        "if a>b :\n",
        "  if a>c :\n",
        "    print(a)\n",
        "  else:\n",
        "    print(c)\n",
        "else: # b>=a\n",
        "  if b>c :\n",
        "    print(b)"
      ],
      "execution_count": null,
      "outputs": [
        {
          "output_type": "stream",
          "text": [
            "10\n",
            "5\n",
            "20\n",
            "20\n"
          ],
          "name": "stdout"
        }
      ]
    },
    {
      "cell_type": "markdown",
      "metadata": {
        "id": "hs-M9GffzExr"
      },
      "source": [
        "pass statement (for skipping)"
      ]
    },
    {
      "cell_type": "code",
      "metadata": {
        "id": "r8sH3wpQzIgk"
      },
      "source": [
        "if 10>30:\n",
        "  pass"
      ],
      "execution_count": null,
      "outputs": []
    },
    {
      "cell_type": "markdown",
      "metadata": {
        "id": "6IeAnCa30pQk"
      },
      "source": [
        "**List**"
      ]
    },
    {
      "cell_type": "code",
      "metadata": {
        "id": "lKnhM_CB0qoK",
        "colab": {
          "base_uri": "https://localhost:8080/",
          "height": 35
        },
        "outputId": "49bbac01-9370-44ec-da07-aef6a46a2486"
      },
      "source": [
        "L = [ 1, \"string\", 10.5, [2, 3, 4] ]\n",
        "L"
      ],
      "execution_count": null,
      "outputs": [
        {
          "output_type": "execute_result",
          "data": {
            "text/plain": [
              "[1, 'string', 10.5, [2, 3, 4]]"
            ]
          },
          "metadata": {
            "tags": []
          },
          "execution_count": 34
        }
      ]
    },
    {
      "cell_type": "markdown",
      "metadata": {
        "id": "FBcC_UGT0z4S"
      },
      "source": [
        "Dictionary"
      ]
    },
    {
      "cell_type": "code",
      "metadata": {
        "id": "4DMz1wU905UJ"
      },
      "source": [
        "d = { \n",
        "    \"key\" : \"value\",\n",
        "     \"name\" : \"Tanmoy\",\n",
        "     \"Dept\" : \"CSE\",\n",
        "     10 : \"Lucky number\",\n",
        "     4 : 400\n",
        " }"
      ],
      "execution_count": null,
      "outputs": []
    },
    {
      "cell_type": "code",
      "metadata": {
        "id": "I1fu75hn1fKs",
        "colab": {
          "base_uri": "https://localhost:8080/",
          "height": 35
        },
        "outputId": "433052f7-7d68-4274-ebe9-d19dfea03932"
      },
      "source": [
        "d"
      ],
      "execution_count": null,
      "outputs": [
        {
          "output_type": "execute_result",
          "data": {
            "text/plain": [
              "{10: 'Lucky number', 4: 400, 'Dept': 'CSE', 'key': 'value', 'name': 'Tanmoy'}"
            ]
          },
          "metadata": {
            "tags": []
          },
          "execution_count": 36
        }
      ]
    },
    {
      "cell_type": "code",
      "metadata": {
        "id": "rVFYs6Be1hmR",
        "colab": {
          "base_uri": "https://localhost:8080/",
          "height": 35
        },
        "outputId": "b3d4e06a-80f1-423f-e7e4-9563c47cc181"
      },
      "source": [
        "d[\"name\"]"
      ],
      "execution_count": null,
      "outputs": [
        {
          "output_type": "execute_result",
          "data": {
            "application/vnd.google.colaboratory.intrinsic": {
              "type": "string"
            },
            "text/plain": [
              "'Tanmoy'"
            ]
          },
          "metadata": {
            "tags": []
          },
          "execution_count": 37
        }
      ]
    },
    {
      "cell_type": "code",
      "metadata": {
        "id": "w_WWloA51loO",
        "colab": {
          "base_uri": "https://localhost:8080/",
          "height": 35
        },
        "outputId": "9728c54f-a278-455e-acc1-4f32b8612652"
      },
      "source": [
        "d[4]"
      ],
      "execution_count": null,
      "outputs": [
        {
          "output_type": "execute_result",
          "data": {
            "text/plain": [
              "400"
            ]
          },
          "metadata": {
            "tags": []
          },
          "execution_count": 38
        }
      ]
    },
    {
      "cell_type": "code",
      "metadata": {
        "id": "fINQHaJR11S6",
        "colab": {
          "base_uri": "https://localhost:8080/",
          "height": 35
        },
        "outputId": "b53777c3-e51c-4cb6-9ae0-00c7617ba544"
      },
      "source": [
        "d[\"key\"]"
      ],
      "execution_count": null,
      "outputs": [
        {
          "output_type": "execute_result",
          "data": {
            "application/vnd.google.colaboratory.intrinsic": {
              "type": "string"
            },
            "text/plain": [
              "'value'"
            ]
          },
          "metadata": {
            "tags": []
          },
          "execution_count": 39
        }
      ]
    },
    {
      "cell_type": "code",
      "metadata": {
        "id": "HvTA4S8j18hE"
      },
      "source": [
        "student1 = {\n",
        "    \"name\" : \"Kasfia\",\n",
        "    \"ID\" : 18101046,\n",
        "    \"dept\" : \"CSE\",\n",
        "    \"university\" : \"UAP\"\n",
        "}"
      ],
      "execution_count": null,
      "outputs": []
    },
    {
      "cell_type": "code",
      "metadata": {
        "id": "30tGMzGR2S6u"
      },
      "source": [
        "student2 = {\n",
        "    \"name\" : \"Sakib\",\n",
        "    \"ID\" : 18101032,\n",
        "    \"dept\" : \"CSE\",\n",
        "    \"university\" : \"UAP\"\n",
        "}"
      ],
      "execution_count": null,
      "outputs": []
    },
    {
      "cell_type": "code",
      "metadata": {
        "id": "TegKeh302ZGW",
        "colab": {
          "base_uri": "https://localhost:8080/",
          "height": 35
        },
        "outputId": "de15f48b-f713-45e7-96a3-6e4d24361eff"
      },
      "source": [
        "student1[\"ID\"]"
      ],
      "execution_count": null,
      "outputs": [
        {
          "output_type": "execute_result",
          "data": {
            "text/plain": [
              "18101046"
            ]
          },
          "metadata": {
            "tags": []
          },
          "execution_count": 43
        }
      ]
    },
    {
      "cell_type": "code",
      "metadata": {
        "id": "LHa9O0H72gaN"
      },
      "source": [
        "student_list = [ student1, student2 ]"
      ],
      "execution_count": null,
      "outputs": []
    },
    {
      "cell_type": "code",
      "metadata": {
        "id": "qZHx5WIx2jWv"
      },
      "source": [
        "l2 = [1, 3, 5, 6, 909]"
      ],
      "execution_count": null,
      "outputs": []
    },
    {
      "cell_type": "code",
      "metadata": {
        "id": "nmQIhkue2uFX",
        "colab": {
          "base_uri": "https://localhost:8080/",
          "height": 35
        },
        "outputId": "14591686-1af8-4d75-d7ab-84a11ea3ab8a"
      },
      "source": [
        "student_list[1]['name']"
      ],
      "execution_count": null,
      "outputs": [
        {
          "output_type": "execute_result",
          "data": {
            "application/vnd.google.colaboratory.intrinsic": {
              "type": "string"
            },
            "text/plain": [
              "'Sakib'"
            ]
          },
          "metadata": {
            "tags": []
          },
          "execution_count": 52
        }
      ]
    },
    {
      "cell_type": "code",
      "metadata": {
        "id": "IEIxbxet24rW",
        "colab": {
          "base_uri": "https://localhost:8080/",
          "height": 35
        },
        "outputId": "212ce08b-8771-4800-fd79-789abc7348db"
      },
      "source": [
        "student2['name']"
      ],
      "execution_count": null,
      "outputs": [
        {
          "output_type": "execute_result",
          "data": {
            "application/vnd.google.colaboratory.intrinsic": {
              "type": "string"
            },
            "text/plain": [
              "'Sakib'"
            ]
          },
          "metadata": {
            "tags": []
          },
          "execution_count": 50
        }
      ]
    },
    {
      "cell_type": "code",
      "metadata": {
        "id": "f2HzduXV3Bva"
      },
      "source": [
        "d_l = {\n",
        "    'efti list' : [1, 2, 3, 4, 5],\n",
        "    \"ID\" : 18101014\n",
        "}"
      ],
      "execution_count": null,
      "outputs": []
    },
    {
      "cell_type": "code",
      "metadata": {
        "id": "Mle4ZxVU3OjB",
        "colab": {
          "base_uri": "https://localhost:8080/",
          "height": 34
        },
        "outputId": "e40dac16-fa1d-4279-f7d3-27189be9330f"
      },
      "source": [
        "d_l['efti list']"
      ],
      "execution_count": null,
      "outputs": [
        {
          "output_type": "execute_result",
          "data": {
            "text/plain": [
              "[1, 2, 3, 4, 5]"
            ]
          },
          "metadata": {
            "tags": []
          },
          "execution_count": 55
        }
      ]
    },
    {
      "cell_type": "code",
      "metadata": {
        "id": "fsDz1Zpp3azW"
      },
      "source": [
        "abc = \"value\"\n",
        "d2 = {\n",
        "    abc : \"this is an example of variable\"\n",
        "}\n"
      ],
      "execution_count": null,
      "outputs": []
    },
    {
      "cell_type": "code",
      "metadata": {
        "id": "DN5QI_BW3kwH",
        "colab": {
          "base_uri": "https://localhost:8080/",
          "height": 35
        },
        "outputId": "4ff6b551-38b6-4550-ac64-c8342e2c5385"
      },
      "source": [
        "d2[abc]"
      ],
      "execution_count": null,
      "outputs": [
        {
          "output_type": "execute_result",
          "data": {
            "application/vnd.google.colaboratory.intrinsic": {
              "type": "string"
            },
            "text/plain": [
              "'this is an example of variable'"
            ]
          },
          "metadata": {
            "tags": []
          },
          "execution_count": 59
        }
      ]
    },
    {
      "cell_type": "code",
      "metadata": {
        "id": "AW8AlBDY3yaI",
        "colab": {
          "base_uri": "https://localhost:8080/",
          "height": 35
        },
        "outputId": "c587f648-684e-445f-fcb5-c0a70342d7b5"
      },
      "source": [
        "d2[\"value\"]"
      ],
      "execution_count": null,
      "outputs": [
        {
          "output_type": "execute_result",
          "data": {
            "application/vnd.google.colaboratory.intrinsic": {
              "type": "string"
            },
            "text/plain": [
              "'this is an example of variable'"
            ]
          },
          "metadata": {
            "tags": []
          },
          "execution_count": 60
        }
      ]
    },
    {
      "cell_type": "code",
      "metadata": {
        "id": "OzTkVPtF38vv",
        "colab": {
          "base_uri": "https://localhost:8080/",
          "height": 195
        },
        "outputId": "d9222555-d974-4fad-b902-1cd9f721efe3"
      },
      "source": [
        "abc = \"value\"\n",
        "d2 = {\n",
        "    abc : \"this is an example of variable\"\n",
        "}\n",
        "abc = \"this is not a value\"\n",
        "\n",
        "d2[abc]"
      ],
      "execution_count": null,
      "outputs": [
        {
          "output_type": "error",
          "ename": "KeyError",
          "evalue": "ignored",
          "traceback": [
            "\u001b[0;31m---------------------------------------------------------------------------\u001b[0m",
            "\u001b[0;31mKeyError\u001b[0m                                  Traceback (most recent call last)",
            "\u001b[0;32m<ipython-input-61-cbb9782bd8ca>\u001b[0m in \u001b[0;36m<module>\u001b[0;34m()\u001b[0m\n\u001b[1;32m      5\u001b[0m \u001b[0mabc\u001b[0m \u001b[0;34m=\u001b[0m \u001b[0;34m\"this is not a value\"\u001b[0m\u001b[0;34m\u001b[0m\u001b[0;34m\u001b[0m\u001b[0m\n\u001b[1;32m      6\u001b[0m \u001b[0;34m\u001b[0m\u001b[0m\n\u001b[0;32m----> 7\u001b[0;31m \u001b[0md2\u001b[0m\u001b[0;34m[\u001b[0m\u001b[0mabc\u001b[0m\u001b[0;34m]\u001b[0m\u001b[0;34m\u001b[0m\u001b[0;34m\u001b[0m\u001b[0m\n\u001b[0m",
            "\u001b[0;31mKeyError\u001b[0m: 'this is not a value'"
          ]
        }
      ]
    },
    {
      "cell_type": "code",
      "metadata": {
        "id": "23leSypr4F6x",
        "colab": {
          "base_uri": "https://localhost:8080/",
          "height": 35
        },
        "outputId": "3f3bf868-9bec-4737-a516-bf61d99711d7"
      },
      "source": [
        "abc = \"value\"\n",
        "d2 = {\n",
        "    abc : \"this is an example of variable\"\n",
        "}\n",
        "abc = \"this is not a value\"\n",
        "\n",
        "d2[\"value\"]"
      ],
      "execution_count": null,
      "outputs": [
        {
          "output_type": "execute_result",
          "data": {
            "application/vnd.google.colaboratory.intrinsic": {
              "type": "string"
            },
            "text/plain": [
              "'this is an example of variable'"
            ]
          },
          "metadata": {
            "tags": []
          },
          "execution_count": 62
        }
      ]
    },
    {
      "cell_type": "code",
      "metadata": {
        "id": "4vmouDZj4MUd"
      },
      "source": [
        "var_1 = \"name\"\n",
        "var_2 = \"Sakib\"\n",
        "\n",
        "d3 = {var_1 : var_2}"
      ],
      "execution_count": null,
      "outputs": []
    },
    {
      "cell_type": "code",
      "metadata": {
        "id": "XOrazyGg5CqJ",
        "colab": {
          "base_uri": "https://localhost:8080/",
          "height": 35
        },
        "outputId": "490badfb-87d9-4aba-db3a-47696a5c5970"
      },
      "source": [
        "d3[\"name\"]"
      ],
      "execution_count": null,
      "outputs": [
        {
          "output_type": "execute_result",
          "data": {
            "application/vnd.google.colaboratory.intrinsic": {
              "type": "string"
            },
            "text/plain": [
              "'Sakib'"
            ]
          },
          "metadata": {
            "tags": []
          },
          "execution_count": 65
        }
      ]
    }
  ]
}