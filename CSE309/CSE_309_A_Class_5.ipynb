{
  "nbformat": 4,
  "nbformat_minor": 0,
  "metadata": {
    "colab": {
      "name": "CSE_309_A_Class_5.ipynb",
      "provenance": []
    },
    "kernelspec": {
      "name": "python3",
      "display_name": "Python 3"
    }
  },
  "cells": [
    {
      "cell_type": "markdown",
      "metadata": {
        "id": "e_WgyytwneXq"
      },
      "source": [
        "**LOOP**"
      ]
    },
    {
      "cell_type": "markdown",
      "metadata": {
        "id": "iVP6ETBzpMMX"
      },
      "source": [
        "print: 0-9\n",
        "JAVA code:\n",
        "```\n",
        "for(int i=0; i<10; i++) {\n",
        "  System.out.println(i)\n",
        "}\n",
        "\n",
        "int i=0;\n",
        "while (i<10) {\n",
        "  System.out.println(i);\n",
        "  i++;\n",
        "}\n",
        "```\n",
        "\n"
      ]
    },
    {
      "cell_type": "code",
      "metadata": {
        "id": "fUxSB0kHpL4l"
      },
      "source": [
        "i = 0\n",
        "while (i<10) :\n",
        "  print(i)\n",
        "  i = i + 1"
      ],
      "execution_count": null,
      "outputs": []
    },
    {
      "cell_type": "markdown",
      "metadata": {
        "id": "HNrlNlZCqo_g"
      },
      "source": [
        "1 + 2 + . . ..  + 10 = 55"
      ]
    },
    {
      "cell_type": "code",
      "metadata": {
        "id": "ESs6gFsEnT2L",
        "colab": {
          "base_uri": "https://localhost:8080/",
          "height": 34
        },
        "outputId": "0b261e66-2d38-476a-932c-8de4c0a63027"
      },
      "source": [
        "i=1\n",
        "sum = 0\n",
        "while i<11 :\n",
        "  if(i == 10):\n",
        "    print(i, end=' ')\n",
        "  else:\n",
        "    print(i, \"+\" , end=' ')\n",
        "  sum = sum + i\n",
        "  i += 1\n",
        "print(\"=\", sum)"
      ],
      "execution_count": null,
      "outputs": [
        {
          "output_type": "stream",
          "text": [
            "1 + 2 + 3 + 4 + 5 + 6 + 7 + 8 + 9 + 10 = 55\n"
          ],
          "name": "stdout"
        }
      ]
    },
    {
      "cell_type": "markdown",
      "metadata": {
        "id": "5qB-e1YPsQSR"
      },
      "source": [
        "\n",
        "\n",
        "```\n",
        "input:\n",
        "start: 10\n",
        "end: 20\n",
        "output:\n",
        "10 + 11 + ... + 20 = ?\n",
        "```\n",
        "\n"
      ]
    },
    {
      "cell_type": "code",
      "metadata": {
        "id": "lmSUHyNCsP41",
        "colab": {
          "base_uri": "https://localhost:8080/",
          "height": 67
        },
        "outputId": "9bba4083-ad32-4bad-bcda-e6511c5dcd4f"
      },
      "source": [
        "start = int(input(\"Start: \"))\n",
        "end_p = int(input(\"End: \"))\n",
        "\n",
        "sum = 0\n",
        "i=start\n",
        "\n",
        "while i<end_p+1 :\n",
        "  if(i == end_p):\n",
        "    print(i, end=' ')\n",
        "  else:\n",
        "    print(i, \"+\" , end=' ')\n",
        "  sum = sum + i\n",
        "  i += 1\n",
        "print(\"=\", sum)"
      ],
      "execution_count": null,
      "outputs": [
        {
          "output_type": "stream",
          "text": [
            "Start: 10\n",
            "End: 20\n",
            "10 + 11 + 12 + 13 + 14 + 15 + 16 + 17 + 18 + 19 + 20 = 165\n"
          ],
          "name": "stdout"
        }
      ]
    },
    {
      "cell_type": "markdown",
      "metadata": {
        "id": "_DaK5MT-tQVl"
      },
      "source": [
        "\n",
        "\n",
        "```\n",
        "input:\n",
        "start: 20\n",
        "finish: 40\n",
        "output:\n",
        "20 + 22 + 24 + ... + 40 =?\n",
        "```\n",
        "\n"
      ]
    },
    {
      "cell_type": "code",
      "metadata": {
        "id": "lQ_-Skc3tZgI",
        "colab": {
          "base_uri": "https://localhost:8080/",
          "height": 67
        },
        "outputId": "9a902587-96f4-4ce0-f86f-374764ccd81d"
      },
      "source": [
        "start = int(input(\"Start: \"))\n",
        "end_p = int(input(\"End: \"))\n",
        "\n",
        "sum = 0\n",
        "i=start\n",
        "\n",
        "while i<end_p+1 :\n",
        "  if i%2 == 0:\n",
        "    \n",
        "    if(i == end_p):\n",
        "      print(i, end=' ')\n",
        "    else:\n",
        "      print(i, \"+\" , end=' ')\n",
        "    \n",
        "    sum = sum + i\n",
        "\n",
        "  i += 1\n",
        "print(\"=\", sum)"
      ],
      "execution_count": null,
      "outputs": [
        {
          "output_type": "stream",
          "text": [
            "Start: 20\n",
            "End: 40\n",
            "20 + 22 + 24 + 26 + 28 + 30 + 32 + 34 + 36 + 38 + 40 = 330\n"
          ],
          "name": "stdout"
        }
      ]
    },
    {
      "cell_type": "code",
      "metadata": {
        "id": "xajV3lOcu8cY",
        "colab": {
          "base_uri": "https://localhost:8080/",
          "height": 67
        },
        "outputId": "dfc9e226-cf8c-45bd-b9fb-149516b035b1"
      },
      "source": [
        "start = int(input(\"Start: \"))\n",
        "end_p = int(input(\"End: \"))\n",
        "\n",
        "sum = 0\n",
        "i=start\n",
        "\n",
        "while i<end_p+1 :\n",
        "    \n",
        "  if(i == end_p):\n",
        "    print(i, end=' ')\n",
        "  else:\n",
        "    print(i, \"+\" , end=' ')\n",
        "    \n",
        "  sum = sum + i\n",
        "  i += 2\n",
        "\n",
        "print(\"=\", sum)"
      ],
      "execution_count": null,
      "outputs": [
        {
          "output_type": "stream",
          "text": [
            "Start: 20\n",
            "End: 40\n",
            "20 + 22 + 24 + 26 + 28 + 30 + 32 + 34 + 36 + 38 + 40 = 330\n"
          ],
          "name": "stdout"
        }
      ]
    },
    {
      "cell_type": "code",
      "metadata": {
        "id": "p_sGSgIjvVdv",
        "colab": {
          "base_uri": "https://localhost:8080/",
          "height": 67
        },
        "outputId": "8c867a2c-0cec-4afc-ba82-caae36dbd86a"
      },
      "source": [
        "start = int(input(\"Start: \"))\n",
        "end_p = int(input(\"End: \"))\n",
        "\n",
        "if start%2 == 1:\n",
        "  start = start+1\n",
        "\n",
        "if end_p%2 == 1:\n",
        "  end_p = end_p - 1\n",
        "\n",
        "sum = 0\n",
        "i=start\n",
        "\n",
        "while i<end_p+1 :\n",
        "  if(i == end_p):\n",
        "    print(i, end=' ')\n",
        "  else:\n",
        "    print(i, \"+\" , end=' ')\n",
        "  \n",
        "  sum = sum + i\n",
        "  i += 2\n",
        "\n",
        "print(\"=\", sum)"
      ],
      "execution_count": null,
      "outputs": [
        {
          "output_type": "stream",
          "text": [
            "Start: 9\n",
            "End: 21\n",
            "10 + 12 + 14 + 16 + 18 + 20 = 90\n"
          ],
          "name": "stdout"
        }
      ]
    },
    {
      "cell_type": "code",
      "metadata": {
        "id": "c2oieEbvw-HN",
        "colab": {
          "base_uri": "https://localhost:8080/",
          "height": 67
        },
        "outputId": "ada23ef2-ff55-4596-aae7-0ceb596e96fb"
      },
      "source": [
        "start = int(input(\"Start: \"))\n",
        "end_p = int(input(\"End: \"))\n",
        "\n",
        "if start%2 == 1:\n",
        "  start = start+1\n",
        "\n",
        "if end_p%2 == 1:\n",
        "  end_p = end_p - 1\n",
        "\n",
        "sum = 0\n",
        "i=start\n",
        "\n",
        "while i<end_p+1 :\n",
        "  if(i == end_p):\n",
        "    print(i, end=' ')\n",
        "  else:\n",
        "    print(i, \"+\" , end=' ')\n",
        "  \n",
        "  sum = sum + i\n",
        "  i += 2\n",
        "\n",
        "print(\"=\", sum)"
      ],
      "execution_count": null,
      "outputs": [
        {
          "output_type": "stream",
          "text": [
            "Start: 9\n",
            "End: 21\n",
            "10 + 12 + 14 + 16 + 18 + 20 = 90\n"
          ],
          "name": "stdout"
        }
      ]
    },
    {
      "cell_type": "markdown",
      "metadata": {
        "id": "K4CFNh4GwXak"
      },
      "source": [
        "**Range**"
      ]
    },
    {
      "cell_type": "code",
      "metadata": {
        "id": "hqkIjcZOxmpF"
      },
      "source": [
        "#l[start : end + 1: increment]"
      ],
      "execution_count": null,
      "outputs": []
    },
    {
      "cell_type": "markdown",
      "metadata": {
        "id": "K8fnvEmxxm8i"
      },
      "source": [
        "\n",
        "\n",
        "```\n",
        "for(int i=0; i<10; i++) {\n",
        "  System.out.println(i)\n",
        "}\n",
        "```\n",
        "\n"
      ]
    },
    {
      "cell_type": "code",
      "metadata": {
        "id": "X3Ujostfyy8D",
        "colab": {
          "base_uri": "https://localhost:8080/",
          "height": 34
        },
        "outputId": "b1b020fa-8611-4bf9-eee8-5cd5b703ed6e"
      },
      "source": [
        "l = list( range(0, 10, 1) )\n",
        "l"
      ],
      "execution_count": null,
      "outputs": [
        {
          "output_type": "execute_result",
          "data": {
            "text/plain": [
              "[0, 1, 2, 3, 4, 5, 6, 7, 8, 9]"
            ]
          },
          "metadata": {
            "tags": []
          },
          "execution_count": 19
        }
      ]
    },
    {
      "cell_type": "code",
      "metadata": {
        "id": "c8WpaJvdzArg",
        "colab": {
          "base_uri": "https://localhost:8080/",
          "height": 34
        },
        "outputId": "22f167c4-1d47-4f9b-d11e-5470aec38880"
      },
      "source": [
        "l = list( range(10) )\n",
        "l "
      ],
      "execution_count": null,
      "outputs": [
        {
          "output_type": "execute_result",
          "data": {
            "text/plain": [
              "[0, 1, 2, 3, 4, 5, 6, 7, 8, 9]"
            ]
          },
          "metadata": {
            "tags": []
          },
          "execution_count": 20
        }
      ]
    },
    {
      "cell_type": "code",
      "metadata": {
        "id": "wNF7sbi1zJKh",
        "colab": {
          "base_uri": "https://localhost:8080/",
          "height": 34
        },
        "outputId": "2f36b0d1-11ea-46d1-c0d3-d15f7533e530"
      },
      "source": [
        "l = list( range(5,10) )\n",
        "l "
      ],
      "execution_count": null,
      "outputs": [
        {
          "output_type": "execute_result",
          "data": {
            "text/plain": [
              "[5, 6, 7, 8, 9]"
            ]
          },
          "metadata": {
            "tags": []
          },
          "execution_count": 21
        }
      ]
    },
    {
      "cell_type": "code",
      "metadata": {
        "id": "SpBnHApDzMkZ",
        "colab": {
          "base_uri": "https://localhost:8080/",
          "height": 34
        },
        "outputId": "1853a769-2a3a-47e2-df33-5e718e204113"
      },
      "source": [
        "l = list( range(5,10, 2) )\n",
        "l "
      ],
      "execution_count": null,
      "outputs": [
        {
          "output_type": "execute_result",
          "data": {
            "text/plain": [
              "[5, 7, 9]"
            ]
          },
          "metadata": {
            "tags": []
          },
          "execution_count": 22
        }
      ]
    },
    {
      "cell_type": "markdown",
      "metadata": {
        "id": "y7mYNNG9zT05"
      },
      "source": [
        "**For**"
      ]
    },
    {
      "cell_type": "code",
      "metadata": {
        "id": "1m4oHmSZzTNA",
        "colab": {
          "base_uri": "https://localhost:8080/",
          "height": 185
        },
        "outputId": "1fde746b-82e2-48ad-bb81-82df6abf2a16"
      },
      "source": [
        "for i in range(10):\n",
        "  print(i)"
      ],
      "execution_count": null,
      "outputs": [
        {
          "output_type": "stream",
          "text": [
            "0\n",
            "1\n",
            "2\n",
            "3\n",
            "4\n",
            "5\n",
            "6\n",
            "7\n",
            "8\n",
            "9\n"
          ],
          "name": "stdout"
        }
      ]
    },
    {
      "cell_type": "code",
      "metadata": {
        "id": "R14oi-BIzji6",
        "colab": {
          "base_uri": "https://localhost:8080/",
          "height": 101
        },
        "outputId": "3fed1cb1-7454-4db4-fb6d-7c00981eef42"
      },
      "source": [
        "l = [10 , 2, \"A\", \"B\", 1010]\n",
        "\n",
        "for i in l:\n",
        "  print(i)"
      ],
      "execution_count": null,
      "outputs": [
        {
          "output_type": "stream",
          "text": [
            "10\n",
            "2\n",
            "A\n",
            "B\n",
            "1010\n"
          ],
          "name": "stdout"
        }
      ]
    },
    {
      "cell_type": "code",
      "metadata": {
        "id": "mWpYpSn_zxv3",
        "colab": {
          "base_uri": "https://localhost:8080/",
          "height": 67
        },
        "outputId": "ddc412cc-a01d-4459-de2b-8b05995e5c66"
      },
      "source": [
        "l = [10 , 2, \"A\", \"B\", 1010]\n",
        "\n",
        "for i in range(1,4):\n",
        "  print(l[i])"
      ],
      "execution_count": null,
      "outputs": [
        {
          "output_type": "stream",
          "text": [
            "2\n",
            "A\n",
            "B\n"
          ],
          "name": "stdout"
        }
      ]
    },
    {
      "cell_type": "code",
      "metadata": {
        "id": "3xmgEWDC0br6"
      },
      "source": [
        "l = l + [6] "
      ],
      "execution_count": null,
      "outputs": []
    },
    {
      "cell_type": "code",
      "metadata": {
        "id": "r5PE8eNc0mYX",
        "colab": {
          "base_uri": "https://localhost:8080/",
          "height": 34
        },
        "outputId": "b1eea72a-e86d-413c-822b-c8bb1ff0f3c4"
      },
      "source": [
        ""
      ],
      "execution_count": null,
      "outputs": [
        {
          "output_type": "execute_result",
          "data": {
            "text/plain": [
              "[10, 2, 'A', 'B', 1010, 6]"
            ]
          },
          "metadata": {
            "tags": []
          },
          "execution_count": 27
        }
      ]
    }
  ]
}