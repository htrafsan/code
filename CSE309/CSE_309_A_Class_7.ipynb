{
  "nbformat": 4,
  "nbformat_minor": 0,
  "metadata": {
    "colab": {
      "name": "CSE_309_A_Class_7.ipynb",
      "provenance": [],
      "collapsed_sections": []
    },
    "kernelspec": {
      "name": "python3",
      "display_name": "Python 3"
    }
  },
  "cells": [
    {
      "cell_type": "markdown",
      "metadata": {
        "id": "kdQkXrNCn5nn"
      },
      "source": [
        "# Class"
      ]
    },
    {
      "cell_type": "code",
      "metadata": {
        "id": "BU3kP402iYA2"
      },
      "source": [
        "class Account:\n",
        "  account_number = 0\n",
        "  balance = 0.0\n",
        "\n",
        "  def show_data(self):\n",
        "    # account_number -> just checks the method parameters\n",
        "    # self.account_number -> checks the class parameters\n",
        "    print(self.account_number, \" : \", self.balance)\n",
        "  \n",
        "  def set_balance(self, balance):\n",
        "    # self.balance -> class variable\n",
        "    # balance -> method parameter\n",
        "    self.balance = balance"
      ],
      "execution_count": null,
      "outputs": []
    },
    {
      "cell_type": "code",
      "metadata": {
        "id": "jNCgYAq8ja0Q"
      },
      "source": [
        "a = Account()"
      ],
      "execution_count": null,
      "outputs": []
    },
    {
      "cell_type": "code",
      "metadata": {
        "id": "5LTcpmzIjspl",
        "colab": {
          "base_uri": "https://localhost:8080/",
          "height": 35
        },
        "outputId": "2aed70e8-ac18-460b-8921-abea8b172376"
      },
      "source": [
        "print(a.account_number, a.balance)"
      ],
      "execution_count": null,
      "outputs": [
        {
          "output_type": "stream",
          "text": [
            "0 0.0\n"
          ],
          "name": "stdout"
        }
      ]
    },
    {
      "cell_type": "code",
      "metadata": {
        "id": "v584zbOejvWE",
        "colab": {
          "base_uri": "https://localhost:8080/",
          "height": 35
        },
        "outputId": "89547ef8-213d-4e31-e8b5-5d35eab6938c"
      },
      "source": [
        "a.show_data()"
      ],
      "execution_count": null,
      "outputs": [
        {
          "output_type": "stream",
          "text": [
            "55  :  1000\n"
          ],
          "name": "stdout"
        }
      ]
    },
    {
      "cell_type": "code",
      "metadata": {
        "id": "zcf1zh1zlqEa"
      },
      "source": [
        "a.set_balance(1000)"
      ],
      "execution_count": null,
      "outputs": []
    },
    {
      "cell_type": "code",
      "metadata": {
        "id": "8325cppTlyAg"
      },
      "source": [
        "a.account_number = 55"
      ],
      "execution_count": null,
      "outputs": []
    },
    {
      "cell_type": "markdown",
      "metadata": {
        "id": "jGT7TmWTn-sc"
      },
      "source": [
        "# Access Modifiers: Public and Private"
      ]
    },
    {
      "cell_type": "code",
      "metadata": {
        "id": "JNEqKe5LmBPM"
      },
      "source": [
        "class Account2:\n",
        "  account_number = 0 # public attribute\n",
        "  __balance = 0.0 # Private attribute\n",
        "\n",
        "  def show_data(self):\n",
        "    # account_number -> just checks the method parameters\n",
        "    # self.account_number -> checks the class parameters\n",
        "    print(self.account_number, \" : \", self.__balance)\n",
        "  \n",
        "  def add_balance(self, balance):\n",
        "    # self.balance -> class variable\n",
        "    # balance -> method parameter\n",
        "    self.__balance += balance"
      ],
      "execution_count": null,
      "outputs": []
    },
    {
      "cell_type": "code",
      "metadata": {
        "id": "Cta73LT_mDOA"
      },
      "source": [
        "a2 = Account2()"
      ],
      "execution_count": null,
      "outputs": []
    },
    {
      "cell_type": "code",
      "metadata": {
        "id": "O3a0JA8KnGHP"
      },
      "source": [
        "a2.account_number = 55"
      ],
      "execution_count": null,
      "outputs": []
    },
    {
      "cell_type": "code",
      "metadata": {
        "id": "Et7PpP8Cm_E-",
        "colab": {
          "base_uri": "https://localhost:8080/",
          "height": 35
        },
        "outputId": "d4007456-94fa-4fac-8e42-62264d5ae514"
      },
      "source": [
        "a2.show_data()"
      ],
      "execution_count": null,
      "outputs": [
        {
          "output_type": "stream",
          "text": [
            "55  :  5000.0\n"
          ],
          "name": "stdout"
        }
      ]
    },
    {
      "cell_type": "code",
      "metadata": {
        "id": "WSQIJi3DnJMd"
      },
      "source": [
        "a2.add_balance(5000)"
      ],
      "execution_count": null,
      "outputs": []
    },
    {
      "cell_type": "code",
      "metadata": {
        "id": "f5-_47_2mTLR"
      },
      "source": [
        "a2.__balance = 1000"
      ],
      "execution_count": null,
      "outputs": []
    },
    {
      "cell_type": "markdown",
      "metadata": {
        "id": "wz711fIHoGfU"
      },
      "source": [
        "# Constructor -> Initialization kora"
      ]
    },
    {
      "cell_type": "code",
      "metadata": {
        "id": "el-S7r-4oaPs",
        "colab": {
          "base_uri": "https://localhost:8080/",
          "height": 171
        },
        "outputId": "b62d3e73-ccd8-4ff5-9f1e-32478e095d08"
      },
      "source": [
        "a2 = Account2(5121252, 500)"
      ],
      "execution_count": null,
      "outputs": [
        {
          "output_type": "error",
          "ename": "TypeError",
          "evalue": "ignored",
          "traceback": [
            "\u001b[0;31m---------------------------------------------------------------------------\u001b[0m",
            "\u001b[0;31mTypeError\u001b[0m                                 Traceback (most recent call last)",
            "\u001b[0;32m<ipython-input-40-8feab3156a27>\u001b[0m in \u001b[0;36m<module>\u001b[0;34m()\u001b[0m\n\u001b[0;32m----> 1\u001b[0;31m \u001b[0ma2\u001b[0m \u001b[0;34m=\u001b[0m \u001b[0mAccount2\u001b[0m\u001b[0;34m(\u001b[0m\u001b[0;36m5121252\u001b[0m\u001b[0;34m,\u001b[0m \u001b[0;36m500\u001b[0m\u001b[0;34m)\u001b[0m\u001b[0;34m\u001b[0m\u001b[0;34m\u001b[0m\u001b[0m\n\u001b[0m",
            "\u001b[0;31mTypeError\u001b[0m: object() takes no parameters"
          ]
        }
      ]
    },
    {
      "cell_type": "code",
      "metadata": {
        "id": "UmNYi--woGzs"
      },
      "source": [
        "class Account3:\n",
        "  account_number = 0 # public attribute\n",
        "  __balance = 0.0 # Private attribute\n",
        "\n",
        "  def __init__(self, account_number, balance): # This is the constructor\n",
        "    self.account_number = account_number\n",
        "    self.__balance = balance\n",
        "\n",
        "  def show_data(self):\n",
        "    # account_number -> just checks the method parameters\n",
        "    # self.account_number -> checks the class parameters\n",
        "    print(self.account_number, \" : \", self.__balance)\n",
        "  \n",
        "  def add_balance(self, balance):\n",
        "    # self.balance -> class variable\n",
        "    # balance -> method parameter\n",
        "    self.__balance += balance"
      ],
      "execution_count": null,
      "outputs": []
    },
    {
      "cell_type": "code",
      "metadata": {
        "id": "vDE6BgUdpXjd"
      },
      "source": [
        "a3 = Account3(55, 8000)"
      ],
      "execution_count": null,
      "outputs": []
    },
    {
      "cell_type": "code",
      "metadata": {
        "id": "u0OHqmi9pb56",
        "colab": {
          "base_uri": "https://localhost:8080/",
          "height": 35
        },
        "outputId": "a1ee0c87-9306-41c6-b35b-c3baafb9eca4"
      },
      "source": [
        "a3.show_data()"
      ],
      "execution_count": null,
      "outputs": [
        {
          "output_type": "stream",
          "text": [
            "55  :  8000\n"
          ],
          "name": "stdout"
        }
      ]
    },
    {
      "cell_type": "markdown",
      "metadata": {
        "id": "prWGTn92pt_F"
      },
      "source": [
        "# Another class example"
      ]
    },
    {
      "cell_type": "code",
      "metadata": {
        "id": "NOPJZeX5pwdo"
      },
      "source": [
        "class Shopping_Complex:\n",
        "\n",
        "  def __init__(self, name, location, owner):\n",
        "    self.name = name\n",
        "    self.location = location\n",
        "    self.owner = owner\n",
        "\n",
        "  def set_shops(self, n):\n",
        "    self.number_of_shops = n\n",
        "  \n",
        "  def open_or_close(self, day):\n",
        "    if(day == \"Sunday\"):\n",
        "      print(\"Closed!\")\n",
        "    else:\n",
        "      print(\"Welcome. We are open!\")\n",
        "    \n",
        "  def show_info(self):\n",
        "    print(\"Name: \", self.name)\n",
        "    print(\"Owner: \", self.owner)\n",
        "    print(\"Location: \", self.location)\n",
        "    print(\"Shops count:\", self.number_of_shops)"
      ],
      "execution_count": null,
      "outputs": []
    },
    {
      "cell_type": "code",
      "metadata": {
        "id": "n776pqI_rJHj"
      },
      "source": [
        "Sumya_sisters = Shopping_Complex(\"Sumya sisters Unlimited\", \"Mymanshing\", \"Sumya\")"
      ],
      "execution_count": null,
      "outputs": []
    },
    {
      "cell_type": "code",
      "metadata": {
        "id": "zo6nWHm4rkat"
      },
      "source": [
        "Sumya_sisters.set_shops(10000)"
      ],
      "execution_count": null,
      "outputs": []
    },
    {
      "cell_type": "code",
      "metadata": {
        "id": "NCOcpQNYr9Lh",
        "colab": {
          "base_uri": "https://localhost:8080/",
          "height": 35
        },
        "outputId": "fdea27b5-9f5a-4357-c0df-ec9bb4ebafb2"
      },
      "source": [
        "Sumya_sisters.open_or_close(\"Friday\")"
      ],
      "execution_count": null,
      "outputs": [
        {
          "output_type": "stream",
          "text": [
            "Welcome. We are open!\n"
          ],
          "name": "stdout"
        }
      ]
    },
    {
      "cell_type": "code",
      "metadata": {
        "id": "vWFMUvOKsDCn",
        "colab": {
          "base_uri": "https://localhost:8080/",
          "height": 35
        },
        "outputId": "c5e9d367-d75e-4c8b-f0bd-ab3d37c5eaf6"
      },
      "source": [
        "Sumya_sisters.open_or_close(\"Sunday\")"
      ],
      "execution_count": null,
      "outputs": [
        {
          "output_type": "stream",
          "text": [
            "Closed!\n"
          ],
          "name": "stdout"
        }
      ]
    },
    {
      "cell_type": "code",
      "metadata": {
        "id": "yiUrtwYmsNMg",
        "colab": {
          "base_uri": "https://localhost:8080/",
          "height": 90
        },
        "outputId": "027c55fa-43ac-4c07-9cf9-1e23862a3573"
      },
      "source": [
        "Sumya_sisters.show_info()"
      ],
      "execution_count": null,
      "outputs": [
        {
          "output_type": "stream",
          "text": [
            "Name:  Sumya sisters Unlimited\n",
            "Owner:  Sumya\n",
            "Location:  Mymanshing\n",
            "Shops count: 10000\n"
          ],
          "name": "stdout"
        }
      ]
    },
    {
      "cell_type": "markdown",
      "metadata": {
        "id": "BreQ7HZnw0l0"
      },
      "source": [
        "**Object Attributes**"
      ]
    },
    {
      "cell_type": "code",
      "metadata": {
        "id": "FzBeZUz_wLSo"
      },
      "source": [
        "Sumya_sisters.CEO = \"Sakib\""
      ],
      "execution_count": null,
      "outputs": []
    },
    {
      "cell_type": "code",
      "metadata": {
        "id": "BQ0wM96-w-ip"
      },
      "source": [
        "Sumya_sisters.CTO = \"Mubina\""
      ],
      "execution_count": null,
      "outputs": []
    },
    {
      "cell_type": "code",
      "metadata": {
        "id": "v1GRDcC9xB4C"
      },
      "source": [
        "class CEO:\n",
        "  def __init__(self, name, age):\n",
        "    self.name = name\n",
        "    self.age = age\n",
        "  \n",
        "  def show_info(self):\n",
        "    print(\"CEO Name:\", self.name)\n",
        "    print(\"CEO Age:\", self.age)"
      ],
      "execution_count": null,
      "outputs": []
    },
    {
      "cell_type": "code",
      "metadata": {
        "id": "W5zeihkmxboE"
      },
      "source": [
        "sakib = CEO(\"Sakib\", 60)"
      ],
      "execution_count": null,
      "outputs": []
    },
    {
      "cell_type": "code",
      "metadata": {
        "id": "vTrdrkYfxkYz"
      },
      "source": [
        "Sumya_sisters.CEO = sakib"
      ],
      "execution_count": null,
      "outputs": []
    },
    {
      "cell_type": "code",
      "metadata": {
        "id": "6kuHXikRwiZ1",
        "colab": {
          "base_uri": "https://localhost:8080/",
          "height": 54
        },
        "outputId": "fa46d2a6-0e94-42a3-a8e5-02bc33c36aee"
      },
      "source": [
        "Sumya_sisters.CEO.show_info()"
      ],
      "execution_count": null,
      "outputs": [
        {
          "output_type": "stream",
          "text": [
            "CEO Name: Sakib\n",
            "CEO Age: 60\n"
          ],
          "name": "stdout"
        }
      ]
    },
    {
      "cell_type": "code",
      "metadata": {
        "id": "Zz5feI_mwm_d"
      },
      "source": [
        "Efti_bros = Shopping_Complex(\"Efti_bros\", \"Mymanshing\", \"Efti\")"
      ],
      "execution_count": null,
      "outputs": []
    },
    {
      "cell_type": "code",
      "metadata": {
        "id": "eUSWxFx2wvoN",
        "colab": {
          "base_uri": "https://localhost:8080/",
          "height": 171
        },
        "outputId": "23a80dd0-9539-48bd-a552-bda6c9e37a8e"
      },
      "source": [
        "Efti_bros.CEO"
      ],
      "execution_count": null,
      "outputs": [
        {
          "output_type": "error",
          "ename": "AttributeError",
          "evalue": "ignored",
          "traceback": [
            "\u001b[0;31m---------------------------------------------------------------------------\u001b[0m",
            "\u001b[0;31mAttributeError\u001b[0m                            Traceback (most recent call last)",
            "\u001b[0;32m<ipython-input-61-4856b36c0ec6>\u001b[0m in \u001b[0;36m<module>\u001b[0;34m()\u001b[0m\n\u001b[0;32m----> 1\u001b[0;31m \u001b[0mEfti_bros\u001b[0m\u001b[0;34m.\u001b[0m\u001b[0mCEO\u001b[0m\u001b[0;34m\u001b[0m\u001b[0;34m\u001b[0m\u001b[0m\n\u001b[0m",
            "\u001b[0;31mAttributeError\u001b[0m: 'Shopping_Complex' object has no attribute 'CEO'"
          ]
        }
      ]
    },
    {
      "cell_type": "markdown",
      "metadata": {
        "id": "ByRCzYMat1Gt"
      },
      "source": [
        "# **The Big Question: What are Class and Object??**\n",
        "\n",
        "\n",
        "\n",
        "```\n",
        "Class is logical entity but object is physical\n",
        "-Price\n",
        "```\n",
        "\n"
      ]
    }
  ]
}