{
  "nbformat": 4,
  "nbformat_minor": 0,
  "metadata": {
    "colab": {
      "name": "CSE 309 Viva A Question Bank.ipynb",
      "provenance": [],
      "collapsed_sections": []
    },
    "kernelspec": {
      "name": "python3",
      "display_name": "Python 3"
    }
  },
  "cells": [
    {
      "cell_type": "markdown",
      "metadata": {
        "id": "S3rwyT2Ajxv7"
      },
      "source": [
        "Question 1"
      ]
    },
    {
      "cell_type": "code",
      "metadata": {
        "id": "duRLCC5pinY6",
        "cellView": "form"
      },
      "source": [
        "#@title Question 1\n",
        "\n",
        "i = int(input())\n",
        "if (i >= 30): # v1: i == 10, v2 >= 15\n",
        "    if (i < 15): \n",
        "        print (\"1\") \n",
        "    if (i < 12): \n",
        "        print (\"2\") \n",
        "    else: \n",
        "        print (\"3\") \n",
        "\n",
        "#1 : input = 12 output= no output \n",
        "#1 : input = 10 output= 1, 2\n",
        "#28: input = 12 output= 1, 2\n",
        "#045:input = 15 output= 3\n",
        "#11: input = 10 output=1, 2\n",
        "#12: input = 20 output= 3 \n",
        "#30: input = 12 output=1, 3\n",
        "#17: input = 20 output=1, 2\n",
        "#021:input = 0 output=3"
      ],
      "execution_count": null,
      "outputs": []
    },
    {
      "cell_type": "code",
      "metadata": {
        "id": "VPr8gB98iz8P"
      },
      "source": [
        "#@title Question 2\n",
        "i = int(input())\n",
        "if (i < 10): \n",
        "    print (\"1\") \n",
        "if (i < 15): \n",
        "    print (\"2\") \n",
        "elif (i < 20): \n",
        "    print (\"3\") \n",
        "else: \n",
        "    print (\"4\") \n",
        "#05: input:5 , output: 1, 2\n",
        "#06: input:60, output: 4\n",
        "#08: input:-8, output: 1, 2 \n",
        "#20: input:200, output: 4\n",
        "\n",
        "#4 : input:15 , output: 3, 4\n",
        "#7 : input: 20, output: 4\n",
        "#26: input: 5, output: 1, 2, 3\n",
        "#021: input: 100, output: 4"
      ],
      "execution_count": null,
      "outputs": []
    },
    {
      "cell_type": "code",
      "metadata": {
        "id": "0ulzN9M6jCJN"
      },
      "source": [
        "#@title Question 3\n",
        "l = [\"I\", \"like\", \"viva\"]  \n",
        "for i in l:  \n",
        "    print(i)\n",
        "\n",
        "#38: I \\n Like \\n viva"
      ],
      "execution_count": null,
      "outputs": []
    },
    {
      "cell_type": "code",
      "metadata": {
        "id": "ok_ZO0OUjUxs"
      },
      "source": [
        "#@title Question 4\n",
        "l = [\"I like viva\"]  \n",
        "for i in l:  \n",
        "    print(i)\n",
        "\n",
        "#40: I \\n like \\n viva\n",
        "#30: I \\n like \\n viva"
      ],
      "execution_count": null,
      "outputs": []
    },
    {
      "cell_type": "code",
      "metadata": {
        "id": "y23IvzJEjaID"
      },
      "source": [
        "#@title Question 5\n",
        "l = \"I like viva\"  \n",
        "for i in l:  \n",
        "    print(i)"
      ],
      "execution_count": null,
      "outputs": []
    },
    {
      "cell_type": "code",
      "metadata": {
        "id": "bCca65mVjcGE"
      },
      "source": [
        "#@title Question 6\n",
        "l = {\n",
        "    1 : \"This\",\n",
        "    2 : \"is\",\n",
        "    3 : 'a',\n",
        "    4 : \"great news\"\n",
        "}\n",
        "\n",
        "for i in l:  \n",
        "    print(i)\n",
        "\n",
        "#46: puro dictionary\n",
        "#09: puro dictionary"
      ],
      "execution_count": null,
      "outputs": []
    },
    {
      "cell_type": "code",
      "metadata": {
        "id": "BUaHbqeHkaDU"
      },
      "source": [
        "#@title Question 7\n",
        "for letter in 'python':  \n",
        "    if letter == 'y' or letter == 'o':  \n",
        "        print(\"1\")\n",
        "    print(letter) \n",
        "    var = 10\n",
        "\n",
        "#7: 1\n",
        "#27: -------\n",
        "#32: 1 1 5"
      ],
      "execution_count": null,
      "outputs": []
    },
    {
      "cell_type": "code",
      "metadata": {
        "id": "mToxQ8Kik54K",
        "colab": {
          "base_uri": "https://localhost:8080/",
          "height": 34
        },
        "outputId": "0bdcb5f5-c2df-4172-92c9-a8b02158c8dd"
      },
      "source": [
        "#@title Question 8\n",
        "for letter in 'geeksforgeeks':  \n",
        "    pass\n",
        "print(letter)\n",
        "\n",
        "#24: nothing\n",
        "#38: -----\n",
        "#12: letter\n",
        "'''\n",
        "int i=0\n",
        "for (i=0; i<5; i++){\n",
        "    \n",
        "}\n",
        "print(i)\n",
        "'''"
      ],
      "execution_count": null,
      "outputs": [
        {
          "output_type": "stream",
          "text": [
            "s\n"
          ],
          "name": "stdout"
        }
      ]
    },
    {
      "cell_type": "code",
      "metadata": {
        "id": "3PLFnEk2k_-R"
      },
      "source": [
        "#@title Question 9\n",
        "a = 0\n",
        "for i in range(1, 3):  \n",
        "    a = a + i**2  \n",
        "print(a) \n",
        "\n",
        "#25: 8"
      ],
      "execution_count": null,
      "outputs": []
    },
    {
      "cell_type": "code",
      "metadata": {
        "id": "EJBRN1xdlM7Q"
      },
      "source": [
        "#@title Question 10\n",
        "a = 0\n",
        "for i in range(1, 3):  \n",
        "    a = i**2  \n",
        "print(a) \n",
        "\n",
        "#33: 1**2, 2**2\n",
        "#46: 4\n",
        "#21: 8"
      ],
      "execution_count": null,
      "outputs": []
    },
    {
      "cell_type": "code",
      "metadata": {
        "id": "TcWurrS4lO8w"
      },
      "source": [
        "#@title Question 11\n",
        "count = 0\n",
        "while (count < 5): \n",
        "  count += 1\n",
        "  print(count+1) \n",
        "\n",
        "#43: 11\n",
        "#11: (0, 1 , 2 , 3 , 4)"
      ],
      "execution_count": null,
      "outputs": []
    },
    {
      "cell_type": "code",
      "metadata": {
        "id": "BGsy-dAnlhZC"
      },
      "source": [
        "#@title Question 12\n",
        "i = 0\n",
        "a = 'python'\n",
        "  \n",
        "while i < len(a):  \n",
        "  if a[i] == 't' or a[i] == 's':  \n",
        "    i += 1\n",
        "  print(a[i]) \n",
        "  i += 1\n",
        "\n",
        "#4 : 1 \\n 2\n",
        "#17: error"
      ],
      "execution_count": null,
      "outputs": []
    },
    {
      "cell_type": "code",
      "metadata": {
        "id": "akjLqhvpmE9Z"
      },
      "source": [
        "#@title Question 13\n",
        "List = [ [ '1', '2' ] , [ ['3'], ['4'] ] ] \n",
        "print() # \n",
        "\n",
        "#33: List[2] -> '3'"
      ],
      "execution_count": null,
      "outputs": []
    },
    {
      "cell_type": "code",
      "metadata": {
        "id": "zgsCq3qTmrUW"
      },
      "source": [
        "#@title Question 14\n",
        "List = [1, 2, ['Python', 4, 'Java'], 6, 'C'] \n",
        "print() \n",
        "#43: List[2][0] -> Python\n",
        "#44: List[4] ->'C'\n",
        "#14: List[2][1]-> 4"
      ],
      "execution_count": null,
      "outputs": []
    },
    {
      "cell_type": "code",
      "metadata": {
        "id": "4qVgPdnwm17e"
      },
      "source": [
        "#@title Question 15\n",
        "l = [1, 2, 3, 4]\n",
        "l[1:3] = [10, 20, 30, 40]\n",
        "print(l)\n",
        "\n",
        "#045: [20, 30, 40]\n",
        "#26 : [1, 2, 3, 4]"
      ],
      "execution_count": null,
      "outputs": []
    },
    {
      "cell_type": "code",
      "metadata": {
        "id": "6lBITz7enGBN"
      },
      "source": [
        "#@title Question 16\n",
        "l = [1, 2, 3, 4, 5, 6, 7]\n",
        "l[1:3] = []\n",
        "print(l)\n",
        "#47: [2, 3]\n",
        "#44: [2, 3, 4]\n",
        "#40: [1, 4]\n",
        "#32: [1, 4, 5, 6, 7]"
      ],
      "execution_count": null,
      "outputs": []
    },
    {
      "cell_type": "code",
      "metadata": {
        "id": "v8XyzBJ1nTgV"
      },
      "source": [
        "#@title Question 17\n",
        "List = ['I',' ', 'L','I','K','E',' ', 'P','Y','T','H','O','N'] \n",
        "Sliced_List = List[-6:-1] \n",
        "print(Sliced_List)\n",
        "\n",
        "#45: 'P','Y','T','H','O'\n",
        "#09: 'P','Y','T','H','O'"
      ],
      "execution_count": null,
      "outputs": []
    },
    {
      "cell_type": "code",
      "metadata": {
        "id": "sf8OKec3nk0u"
      },
      "source": [
        "#@title Question 18\n",
        "List = ['I',' ', 'L','I','K','E',' ', 'P','Y','T','H','O','N'] \n",
        "\n",
        "Sliced_List = List[::-1] \n",
        "print(Sliced_List)\n",
        "\n",
        "#45: reverse full list without 'I'\n",
        "#18: reverse full list"
      ],
      "execution_count": null,
      "outputs": []
    },
    {
      "cell_type": "code",
      "metadata": {
        "id": "lWuAJIVYnme0"
      },
      "source": [
        "#@title Question 19\n",
        "List = ['I',' ', 'L','I','K','E',' ', 'P','Y','T','H','O','N'] \n",
        "Sliced_List = List[ 5: :-1] \n",
        "print(Sliced_List)\n",
        "\n",
        "#14: 'E',' ', 'P','Y','T','H','O','N' reverse"
      ],
      "execution_count": null,
      "outputs": []
    },
    {
      "cell_type": "code",
      "metadata": {
        "id": "5Vv4T0uFnoyc"
      },
      "source": [
        "#@title Question 20\n",
        "List = ['I',' ', 'L','I','K','E',' ', 'P','Y','T','H','O','N'] \n",
        "Sliced_List = List[ 5: 2 :-1] \n",
        "print(Sliced_List)\n",
        "\n",
        "#28: -------\n",
        "#25: 'I','K','E' reverse"
      ],
      "execution_count": null,
      "outputs": []
    },
    {
      "cell_type": "code",
      "metadata": {
        "id": "cAH2ouQMnryc"
      },
      "source": [
        "#@title Question 21\n",
        "List = ['I',' ', 'L','I','K','E',' ', 'P','Y','T','H','O','N'] \n",
        "Sliced_List = List[ len(List): 0 :-1] \n",
        "print(Sliced_List)\n",
        "\n",
        "#21: reverse the whole list"
      ],
      "execution_count": null,
      "outputs": []
    },
    {
      "cell_type": "code",
      "metadata": {
        "id": "ZkJaQPf3nv1c"
      },
      "source": [
        "#@title Question 22\n",
        "List = ['I',' ', 'L','I','K','E',' ', 'P','Y','T','H','O','N'] \n",
        "Sliced_List = List[ 100: 0 :-1] \n",
        "print(Sliced_List)\n",
        "\n",
        "#18: Reverse full list without 'I'"
      ],
      "execution_count": null,
      "outputs": []
    },
    {
      "cell_type": "code",
      "metadata": {
        "id": "VJzFJ3eSnyRE"
      },
      "source": [
        "#@title Question 23\n",
        "List = ['I',' ', 'L','I','K','E',' ', 'P','Y','T','H','O','N'] \n",
        "Sliced_List = List[ 5: 7 :-1] \n",
        "print(Sliced_List)\n",
        "\n",
        "#47: 'E', 'K'"
      ],
      "execution_count": null,
      "outputs": []
    },
    {
      "cell_type": "code",
      "metadata": {
        "id": "VOOEl9ian8wc"
      },
      "source": [
        "#@title Question 24\n",
        "List = ['I',' ', 'L','I','K','E',' ', 'P','Y','T','H','O','N'] \n",
        "Sliced_List = List[ 0: 0 :0] \n",
        "print(Sliced_List)\n",
        "\n",
        "#24: outputs whole list\n",
        "#27: error"
      ],
      "execution_count": null,
      "outputs": []
    },
    {
      "cell_type": "code",
      "metadata": {
        "id": "TlnExxeloAxU"
      },
      "source": [
        "#@title Question 25\n",
        "List = ['I',' ', 'L','I','K','E',' ', 'P','Y','T','H','O','N'] \n",
        "Sliced_List = List[ :: ] \n",
        "print(Sliced_List)"
      ],
      "execution_count": null,
      "outputs": []
    }
  ]
}