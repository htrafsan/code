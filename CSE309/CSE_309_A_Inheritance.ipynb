{
  "nbformat": 4,
  "nbformat_minor": 0,
  "metadata": {
    "colab": {
      "name": "CSE_309_A_Inheritance.ipynb",
      "provenance": [],
      "collapsed_sections": []
    },
    "kernelspec": {
      "name": "python3",
      "display_name": "Python 3"
    }
  },
  "cells": [
    {
      "cell_type": "markdown",
      "metadata": {
        "id": "vJpHOoBr1FZA"
      },
      "source": [
        "# Multilevel Inhertiance"
      ]
    },
    {
      "cell_type": "markdown",
      "metadata": {
        "id": "NZiaKDXV1TJf"
      },
      "source": [
        "**Example **"
      ]
    },
    {
      "cell_type": "code",
      "metadata": {
        "id": "yzk2a0jYwwML"
      },
      "source": [
        "class Mobile:\n",
        "\n",
        "  def __init__(self, IMEI):\n",
        "    self.IMEI = IMEI\n",
        "  \n",
        "  def call(self, contact_number):\n",
        "    print(\"Calling ... \" , contact_number)\n",
        "  \n",
        "  def text(self, contact_number, mgs):\n",
        "    print(\"Sending message to\", contact_number, mgs)"
      ],
      "execution_count": null,
      "outputs": []
    },
    {
      "cell_type": "code",
      "metadata": {
        "id": "vX0gFJeoy4JN"
      },
      "source": [
        "class SamsungMobile(Mobile):\n",
        "  def set_logo(self):\n",
        "    print(\"Samsung logo is set\")"
      ],
      "execution_count": null,
      "outputs": []
    },
    {
      "cell_type": "code",
      "metadata": {
        "id": "iw2ZJKtjzOfa"
      },
      "source": [
        "class SamsungA50(SamsungMobile):\n",
        "  def set_model(self):\n",
        "    print(\"Sansumg A50 is set\")"
      ],
      "execution_count": null,
      "outputs": []
    },
    {
      "cell_type": "code",
      "metadata": {
        "id": "lq5lJjC-zpZ0"
      },
      "source": [
        "Kasfia_mobile = SamsungA50(\"0845546dsfjnsdfkmdsf5412\")"
      ],
      "execution_count": null,
      "outputs": []
    },
    {
      "cell_type": "code",
      "metadata": {
        "id": "8NBXgKth0e6a"
      },
      "source": [
        "Kasfia_mobile.cover = \"Cartoon cover\""
      ],
      "execution_count": null,
      "outputs": []
    },
    {
      "cell_type": "code",
      "metadata": {
        "id": "7-stz66v0MW8"
      },
      "source": [
        "Sakib_mobile = SamsungA50(\"0845546dsf5353fdfkmdsf541\")"
      ],
      "execution_count": null,
      "outputs": []
    },
    {
      "cell_type": "markdown",
      "metadata": {
        "id": "oJVDaIDe1RHo"
      },
      "source": [
        "# Hierarchical"
      ]
    },
    {
      "cell_type": "code",
      "metadata": {
        "id": "CI5i7x--1Eds"
      },
      "source": [
        "class Animal:\n",
        "  def __init__(self, food_hibbit, n_legs, n_hand):\n",
        "    self.food_hibbit = food_hibbit\n",
        "    self.n_legs = n_legs\n",
        "    self.n_hand = n_hand\n",
        "\n",
        "  def eat(self, food):\n",
        "    print(\"Eating ... \", food)\n",
        "  \n",
        "  def sleep(self):\n",
        "    print(\"sleeping ...\")\n",
        "\n",
        "  def run(self):\n",
        "    print(\"Running ...\")"
      ],
      "execution_count": null,
      "outputs": []
    },
    {
      "cell_type": "code",
      "metadata": {
        "id": "iJsL4mPj2k94"
      },
      "source": [
        "class Tiger(Animal):\n",
        "  def hunt(self, pray):\n",
        "    print(\"Hunting ... \", pray)"
      ],
      "execution_count": null,
      "outputs": []
    },
    {
      "cell_type": "code",
      "metadata": {
        "id": "r_ZYCrwW2z4H"
      },
      "source": [
        "class Deer(Animal):\n",
        "  def horn_attack(self, animal):\n",
        "    print(\"attacking\", animal, \"with horn\")"
      ],
      "execution_count": null,
      "outputs": []
    },
    {
      "cell_type": "code",
      "metadata": {
        "id": "tG0uan5W3I1Z"
      },
      "source": [
        "class Dog(Animal):\n",
        "  def bark(self, something):\n",
        "    print(\"Barking at\", something)"
      ],
      "execution_count": null,
      "outputs": []
    },
    {
      "cell_type": "code",
      "metadata": {
        "id": "nQxbaYzB3f_3"
      },
      "source": [
        "Royal_Bengal_Tiger = Tiger(\"Carnivorus\", 4, 0)"
      ],
      "execution_count": null,
      "outputs": []
    },
    {
      "cell_type": "code",
      "metadata": {
        "id": "-CrSaM8T4ETV",
        "colab": {
          "base_uri": "https://localhost:8080/",
          "height": 35
        },
        "outputId": "7f72b35a-2a32-4695-e7d7-59256fae0f72"
      },
      "source": [
        "Royal_Bengal_Tiger.hunt(\"Deer\")"
      ],
      "execution_count": null,
      "outputs": [
        {
          "output_type": "stream",
          "text": [
            "Hunting ...  Deer\n"
          ],
          "name": "stdout"
        }
      ]
    },
    {
      "cell_type": "code",
      "metadata": {
        "id": "VC_6GvKx3tUO"
      },
      "source": [
        "Rain_Deer = Deer(\"Harbivorus\", 4, 0)"
      ],
      "execution_count": null,
      "outputs": []
    },
    {
      "cell_type": "code",
      "metadata": {
        "id": "MdkRvfcu4LLF",
        "colab": {
          "base_uri": "https://localhost:8080/",
          "height": 35
        },
        "outputId": "4c73c29b-238e-4093-8de2-c0d40b3d32d7"
      },
      "source": [
        "Rain_Deer.horn_attack(\"Tiger\")"
      ],
      "execution_count": null,
      "outputs": [
        {
          "output_type": "stream",
          "text": [
            "attacking Tiger with horn\n"
          ],
          "name": "stdout"
        }
      ]
    },
    {
      "cell_type": "code",
      "metadata": {
        "id": "DWL2Ylzw34Z-"
      },
      "source": [
        "Bull_Dog = Dog(\"omnivorous\", 4, 0)"
      ],
      "execution_count": null,
      "outputs": []
    },
    {
      "cell_type": "code",
      "metadata": {
        "id": "vbjxePDz4ZWW",
        "colab": {
          "base_uri": "https://localhost:8080/",
          "height": 35
        },
        "outputId": "ff5f6f16-f027-40a8-f7b3-ba0b4a13eaed"
      },
      "source": [
        "Bull_Dog.bark(\"Stranger!\")"
      ],
      "execution_count": null,
      "outputs": [
        {
          "output_type": "stream",
          "text": [
            "Barking at Stranger!\n"
          ],
          "name": "stdout"
        }
      ]
    },
    {
      "cell_type": "markdown",
      "metadata": {
        "id": "OEauLd8e54E2"
      },
      "source": [
        "# Multiple Inhertance"
      ]
    },
    {
      "cell_type": "code",
      "metadata": {
        "id": "ogpF3txo58Zs"
      },
      "source": [
        "class Tiger1:\n",
        "  def __init__(self, color):\n",
        "    self.color = color\n",
        "  \n",
        "  def roar(self):\n",
        "    print(\"Roar like a tiger\")\n",
        "\n",
        "  def hunt(self):\n",
        "    print(\"Hunting ...\")\n",
        "\n",
        "class Lion1:\n",
        "  def __init__(self, color):\n",
        "    self.color = color\n",
        "  \n",
        "  def roar(self):\n",
        "    print(\"Roar like a King\")\n",
        "\n",
        "  def sleep(self):\n",
        "    print(\"Sleeping ...\")"
      ],
      "execution_count": null,
      "outputs": []
    },
    {
      "cell_type": "code",
      "metadata": {
        "id": "HZj2n_1P6jaL"
      },
      "source": [
        "class Liger1(Lion1, Tiger1):\n",
        "  def set_size(self):\n",
        "    print(\"Bigger than lion and tiger!\")"
      ],
      "execution_count": null,
      "outputs": []
    },
    {
      "cell_type": "code",
      "metadata": {
        "id": "DT70bLRb601N"
      },
      "source": [
        "sumyas_liger = Liger1(\"Lion's color\")"
      ],
      "execution_count": null,
      "outputs": []
    },
    {
      "cell_type": "code",
      "metadata": {
        "id": "UaAAXn9A7a90",
        "colab": {
          "base_uri": "https://localhost:8080/",
          "height": 35
        },
        "outputId": "84901d77-c67a-4169-a205-ca3beac01c08"
      },
      "source": [
        "sumyas_liger.roar()"
      ],
      "execution_count": null,
      "outputs": [
        {
          "output_type": "stream",
          "text": [
            "Roar like a King\n"
          ],
          "name": "stdout"
        }
      ]
    },
    {
      "cell_type": "code",
      "metadata": {
        "id": "5bDbMn9k7FxG",
        "colab": {
          "base_uri": "https://localhost:8080/",
          "height": 35
        },
        "outputId": "fbd983a4-5b3f-4c49-af2b-54c062aa4629"
      },
      "source": [
        "sumyas_liger.color"
      ],
      "execution_count": null,
      "outputs": [
        {
          "output_type": "execute_result",
          "data": {
            "application/vnd.google.colaboratory.intrinsic+json": {
              "type": "string"
            },
            "text/plain": [
              "\"Lion's color\""
            ]
          },
          "metadata": {
            "tags": []
          },
          "execution_count": 31
        }
      ]
    },
    {
      "cell_type": "code",
      "metadata": {
        "id": "-wzuH_pI7uNc"
      },
      "source": [
        "class Liger2(Tiger1, Lion1):\n",
        "  def set_size(self):\n",
        "    print(\"Bigger than lion and tiger!\")"
      ],
      "execution_count": null,
      "outputs": []
    },
    {
      "cell_type": "code",
      "metadata": {
        "id": "IGvI02wU7xH6"
      },
      "source": [
        "kashfias_liger = Liger2(\"Lion's color\")"
      ],
      "execution_count": null,
      "outputs": []
    },
    {
      "cell_type": "code",
      "metadata": {
        "id": "akhL9JAe74lb",
        "colab": {
          "base_uri": "https://localhost:8080/",
          "height": 35
        },
        "outputId": "95147ade-b21f-41b7-8a91-5dc06c20a225"
      },
      "source": [
        "kashfias_liger.roar()"
      ],
      "execution_count": null,
      "outputs": [
        {
          "output_type": "stream",
          "text": [
            "Roar like a tiger\n"
          ],
          "name": "stdout"
        }
      ]
    },
    {
      "cell_type": "code",
      "metadata": {
        "id": "910MX4tB8x-r"
      },
      "source": [
        "class Tiger2:\n",
        "  def __init__(self, color, stripe):\n",
        "    self.color = color\n",
        "    self.stripe = stripe\n",
        "  \n",
        "  def roar(self):\n",
        "    print(\"Roar like a tiger\")\n",
        "\n",
        "  def hunt(self):\n",
        "    print(\"Hunting ...\")\n",
        "\n",
        "class Lion2:\n",
        "  def __init__(self, color, size, keshor):\n",
        "    self.color = color\n",
        "    self.size = size\n",
        "    self.keshor = keshor\n",
        "  \n",
        "  def roar(self):\n",
        "    print(\"Roar like a King\")\n",
        "\n",
        "  def sleep(self):\n",
        "    print(\"Sleeping ...\")"
      ],
      "execution_count": null,
      "outputs": []
    },
    {
      "cell_type": "code",
      "metadata": {
        "id": "yYqVInRM86LR"
      },
      "source": [
        "class Liger3(Lion2, Tiger2):\n",
        "  def set_size(self):\n",
        "    print(\"Bigger than lion and tiger!\")"
      ],
      "execution_count": null,
      "outputs": []
    },
    {
      "cell_type": "code",
      "metadata": {
        "id": "54O0mTMC9JaL"
      },
      "source": [
        "l1 = Liger3(\"Red\", 100)"
      ],
      "execution_count": null,
      "outputs": []
    },
    {
      "cell_type": "code",
      "metadata": {
        "id": "tmbcu7EC9t0C",
        "colab": {
          "base_uri": "https://localhost:8080/",
          "height": 35
        },
        "outputId": "eb1dfca3-3037-4bbb-91d0-c57e8b1a3083"
      },
      "source": [
        "l1.size"
      ],
      "execution_count": null,
      "outputs": [
        {
          "output_type": "execute_result",
          "data": {
            "text/plain": [
              "100"
            ]
          },
          "metadata": {
            "tags": []
          },
          "execution_count": 62
        }
      ]
    },
    {
      "cell_type": "code",
      "metadata": {
        "id": "OKat1fwW9ZZ4"
      },
      "source": [
        "class Liger4(Tiger2, Lion2):\n",
        "  def set_size(self):\n",
        "    print(\"Bigger than lion and tiger!\")"
      ],
      "execution_count": null,
      "outputs": []
    },
    {
      "cell_type": "code",
      "metadata": {
        "id": "9Ca6ukQg9c4o"
      },
      "source": [
        "l2 = Liger4(\"Red\", \"Stripe\")"
      ],
      "execution_count": null,
      "outputs": []
    },
    {
      "cell_type": "code",
      "metadata": {
        "id": "7UquN_xP9nOw",
        "colab": {
          "base_uri": "https://localhost:8080/",
          "height": 171
        },
        "outputId": "3766de9e-3338-48b1-f102-1e5463d2a91b"
      },
      "source": [
        "l2.keshor"
      ],
      "execution_count": null,
      "outputs": [
        {
          "output_type": "error",
          "ename": "AttributeError",
          "evalue": "ignored",
          "traceback": [
            "\u001b[0;31m---------------------------------------------------------------------------\u001b[0m",
            "\u001b[0;31mAttributeError\u001b[0m                            Traceback (most recent call last)",
            "\u001b[0;32m<ipython-input-66-e191aa013f70>\u001b[0m in \u001b[0;36m<module>\u001b[0;34m()\u001b[0m\n\u001b[0;32m----> 1\u001b[0;31m \u001b[0ml2\u001b[0m\u001b[0;34m.\u001b[0m\u001b[0mkeshor\u001b[0m\u001b[0;34m\u001b[0m\u001b[0;34m\u001b[0m\u001b[0m\n\u001b[0m",
            "\u001b[0;31mAttributeError\u001b[0m: 'Liger4' object has no attribute 'keshor'"
          ]
        }
      ]
    },
    {
      "cell_type": "markdown",
      "metadata": {
        "id": "GNtFwFwp_LMA"
      },
      "source": [
        "# Hybrid"
      ]
    },
    {
      "cell_type": "code",
      "metadata": {
        "id": "LNp9-LUE_Q_x"
      },
      "source": [
        ""
      ],
      "execution_count": null,
      "outputs": []
    }
  ]
}