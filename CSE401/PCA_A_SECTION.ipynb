{
  "nbformat": 4,
  "nbformat_minor": 0,
  "metadata": {
    "colab": {
      "name": "PCA A SECTION.ipynb",
      "provenance": []
    },
    "kernelspec": {
      "name": "python3",
      "display_name": "Python 3"
    },
    "language_info": {
      "name": "python"
    }
  },
  "cells": [
    {
      "cell_type": "code",
      "metadata": {
        "id": "UqJS_g-thXuG"
      },
      "source": [
        "from numpy import array\n",
        "from numpy import mean\n",
        "from numpy import cov\n",
        "from numpy.linalg import eig\n"
      ],
      "execution_count": null,
      "outputs": []
    },
    {
      "cell_type": "code",
      "metadata": {
        "colab": {
          "base_uri": "https://localhost:8080/"
        },
        "id": "8nQf6JsriWfS",
        "outputId": "140897f0-b9ce-4ff8-b80d-affe7e2afd84"
      },
      "source": [
        "# dataset\n",
        "\n",
        "D = array([[4, 11], [8, 4], [13, 5], [7, 14]])\n",
        "print(D)"
      ],
      "execution_count": null,
      "outputs": [
        {
          "output_type": "stream",
          "text": [
            "[[ 4 11]\n",
            " [ 8  4]\n",
            " [13  5]\n",
            " [ 7 14]]\n"
          ],
          "name": "stdout"
        }
      ]
    },
    {
      "cell_type": "code",
      "metadata": {
        "colab": {
          "base_uri": "https://localhost:8080/"
        },
        "id": "cUbH8g5hiw3G",
        "outputId": "0ef95485-b8b9-431c-ba88-fc0346df7e8e"
      },
      "source": [
        "print(D.T)"
      ],
      "execution_count": null,
      "outputs": [
        {
          "output_type": "stream",
          "text": [
            "[[ 4  8 13  7]\n",
            " [11  4  5 14]]\n"
          ],
          "name": "stdout"
        }
      ]
    },
    {
      "cell_type": "code",
      "metadata": {
        "colab": {
          "base_uri": "https://localhost:8080/"
        },
        "id": "PvBuzyG9jPg2",
        "outputId": "b8889702-a8db-4f29-faf5-fae0776e7542"
      },
      "source": [
        "# calculating mean\n",
        "M = mean(D.T,axis = 1)\n",
        "print(M)"
      ],
      "execution_count": null,
      "outputs": [
        {
          "output_type": "stream",
          "text": [
            "[8.  8.5]\n"
          ],
          "name": "stdout"
        }
      ]
    },
    {
      "cell_type": "code",
      "metadata": {
        "colab": {
          "base_uri": "https://localhost:8080/"
        },
        "id": "qV_sGByZj4oZ",
        "outputId": "d9469025-3370-48b6-de97-993a10019698"
      },
      "source": [
        "A = D - M\n",
        "print(A)"
      ],
      "execution_count": null,
      "outputs": [
        {
          "output_type": "stream",
          "text": [
            "[[-4.   2.5]\n",
            " [ 0.  -4.5]\n",
            " [ 5.  -3.5]\n",
            " [-1.   5.5]]\n"
          ],
          "name": "stdout"
        }
      ]
    },
    {
      "cell_type": "code",
      "metadata": {
        "colab": {
          "base_uri": "https://localhost:8080/"
        },
        "id": "5Sb4jrIgkH0F",
        "outputId": "f52059d4-b39e-42b8-d774-a634a86e447f"
      },
      "source": [
        "# claculating covariance matrix\n",
        "C = cov(A.T)\n",
        "\n",
        "print(C)"
      ],
      "execution_count": null,
      "outputs": [
        {
          "output_type": "stream",
          "text": [
            "[[ 14. -11.]\n",
            " [-11.  23.]]\n"
          ],
          "name": "stdout"
        }
      ]
    },
    {
      "cell_type": "code",
      "metadata": {
        "id": "qO-ZdYPfkfjO"
      },
      "source": [
        "eig_values, eig_vectors = eig(C)"
      ],
      "execution_count": null,
      "outputs": []
    },
    {
      "cell_type": "code",
      "metadata": {
        "colab": {
          "base_uri": "https://localhost:8080/"
        },
        "id": "_0ufI2Ahkvy4",
        "outputId": "8cd62cde-6711-497f-e81d-701431a66873"
      },
      "source": [
        "# print eigen values\n",
        "\n",
        "print(eig_values)"
      ],
      "execution_count": null,
      "outputs": [
        {
          "output_type": "stream",
          "text": [
            "[ 6.61513568 30.38486432]\n"
          ],
          "name": "stdout"
        }
      ]
    },
    {
      "cell_type": "code",
      "metadata": {
        "colab": {
          "base_uri": "https://localhost:8080/"
        },
        "id": "1CXp0qXPlRcl",
        "outputId": "53067c11-2278-4b20-ee3f-b8679d321ead"
      },
      "source": [
        "# print eigen vectors\n",
        "\n",
        "print(eig_vectors)"
      ],
      "execution_count": null,
      "outputs": [
        {
          "output_type": "stream",
          "text": [
            "[[-0.83025082  0.55738997]\n",
            " [-0.55738997 -0.83025082]]\n"
          ],
          "name": "stdout"
        }
      ]
    },
    {
      "cell_type": "code",
      "metadata": {
        "id": "IJp3UbEZlolf"
      },
      "source": [
        "pca = eig_vectors.T.dot(A.T)"
      ],
      "execution_count": null,
      "outputs": []
    },
    {
      "cell_type": "code",
      "metadata": {
        "id": "lisUmb2WmILQ",
        "outputId": "2edbc52c-46b9-4fee-bd4b-4b48822dc2dd",
        "colab": {
          "base_uri": "https://localhost:8080/"
        }
      },
      "source": [
        "# print principle component\n",
        "\n",
        "print(pca)"
      ],
      "execution_count": null,
      "outputs": [
        {
          "output_type": "stream",
          "text": [
            "[[ 1.92752836  2.50825486 -2.20038921 -2.23539401]\n",
            " [-4.30518692  3.73612869  5.69282771 -5.12376947]]\n"
          ],
          "name": "stdout"
        }
      ]
    }
  ]
}