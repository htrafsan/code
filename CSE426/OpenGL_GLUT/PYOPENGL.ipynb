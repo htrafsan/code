{
  "nbformat": 4,
  "nbformat_minor": 0,
  "metadata": {
    "colab": {
      "name": "PYOPENGL.ipynb",
      "provenance": [],
      "authorship_tag": "ABX9TyO/70wqHY88AezcgQg0hQC9",
      "include_colab_link": true
    },
    "kernelspec": {
      "name": "python3",
      "display_name": "Python 3"
    }
  },
  "cells": [
    {
      "cell_type": "markdown",
      "metadata": {
        "id": "view-in-github",
        "colab_type": "text"
      },
      "source": [
        "<a href=\"https://colab.research.google.com/github/CopotronicRifat/Computer-Graphics-Lab-Codes/blob/master/PYOPENGL.ipynb\" target=\"_parent\"><img src=\"https://colab.research.google.com/assets/colab-badge.svg\" alt=\"Open In Colab\"/></a>"
      ]
    },
    {
      "cell_type": "code",
      "metadata": {
        "id": "Wt4L9wRjT4mZ",
        "colab_type": "code",
        "colab": {
          "base_uri": "https://localhost:8080/",
          "height": 289
        },
        "outputId": "459b3713-e8df-4fa7-efc8-a3ea5ff98546"
      },
      "source": [
        "import os\n",
        "!git clone https://github.com/ntasfi/PyGame-Learning-Environment.git\n",
        "os.chdir('PyGame-Learning-Environment')\n",
        "!pip install -e .\n",
        "!pip install pygame\n",
        "os.chdir('/content')"
      ],
      "execution_count": 2,
      "outputs": [
        {
          "output_type": "stream",
          "text": [
            "Cloning into 'PyGame-Learning-Environment'...\n",
            "remote: Enumerating objects: 1118, done.\u001b[K\n",
            "remote: Total 1118 (delta 0), reused 0 (delta 0), pack-reused 1118\u001b[K\n",
            "Receiving objects: 100% (1118/1118), 8.06 MiB | 4.90 MiB/s, done.\n",
            "Resolving deltas: 100% (592/592), done.\n",
            "Obtaining file:///content/PyGame-Learning-Environment\n",
            "Requirement already satisfied: numpy in /usr/local/lib/python3.6/dist-packages (from ple==0.0.1) (1.18.3)\n",
            "Requirement already satisfied: Pillow in /usr/local/lib/python3.6/dist-packages (from ple==0.0.1) (7.0.0)\n",
            "Installing collected packages: ple\n",
            "  Running setup.py develop for ple\n",
            "Successfully installed ple\n",
            "Collecting pygame\n",
            "\u001b[?25l  Downloading https://files.pythonhosted.org/packages/8e/24/ede6428359f913ed9cd1643dd5533aefeb5a2699cc95bea089de50ead586/pygame-1.9.6-cp36-cp36m-manylinux1_x86_64.whl (11.4MB)\n",
            "\u001b[K     |████████████████████████████████| 11.4MB 2.8MB/s \n",
            "\u001b[?25hInstalling collected packages: pygame\n",
            "Successfully installed pygame-1.9.6\n"
          ],
          "name": "stdout"
        }
      ]
    },
    {
      "cell_type": "code",
      "metadata": {
        "id": "mvwOEqyES_ah",
        "colab_type": "code",
        "colab": {
          "base_uri": "https://localhost:8080/",
          "height": 316
        },
        "outputId": "05c3acdd-f17d-4913-e6f6-02d4498d8a5c"
      },
      "source": [
        "import pygame\n",
        "from pygame.locals import *\n",
        "\n",
        "from OpenGL.GL import *\n",
        "from OpenGL.GLU import *\n",
        "\n",
        "verticies = (\n",
        "    (1, -1, -1),\n",
        "    (1, 1, -1),\n",
        "    (-1, 1, -1),\n",
        "    (-1, -1, -1),\n",
        "    (1, -1, 1),\n",
        "    (1, 1, 1),\n",
        "    (-1, -1, 1),\n",
        "    (-1, 1, 1)\n",
        "    )\n",
        "\n",
        "edges = (\n",
        "    (0,1),\n",
        "    (0,3),\n",
        "    (0,4),\n",
        "    (2,1),\n",
        "    (2,3),\n",
        "    (2,7),\n",
        "    (6,3),\n",
        "    (6,4),\n",
        "    (6,7),\n",
        "    (5,1),\n",
        "    (5,4),\n",
        "    (5,7)\n",
        "    )\n",
        "\n",
        "\n",
        "def Cube():\n",
        "    glBegin(GL_LINES)\n",
        "    for edge in edges:\n",
        "        for vertex in edge:\n",
        "            glVertex3fv(verticies[vertex])\n",
        "    glEnd()\n",
        "\n",
        "\n",
        "def main():\n",
        "    pygame.init()\n",
        "    display = (800,600)\n",
        "    pygame.display.set_mode(display, DOUBLEBUF|OPENGL)\n",
        "\n",
        "    gluPerspective(45, (display[0]/display[1]), 0.1, 50.0)\n",
        "\n",
        "    glTranslatef(0.0,0.0, -5)\n",
        "\n",
        "    while True:\n",
        "        for event in pygame.event.get():\n",
        "            if event.type == pygame.QUIT:\n",
        "                pygame.quit()\n",
        "                quit()\n",
        "\n",
        "        glRotatef(1, 3, 1, 1)\n",
        "        glClear(GL_COLOR_BUFFER_BIT|GL_DEPTH_BUFFER_BIT)\n",
        "        Cube()\n",
        "        pygame.display.flip()\n",
        "        pygame.time.wait(10)\n",
        "\n",
        "\n",
        "main()"
      ],
      "execution_count": 5,
      "outputs": [
        {
          "output_type": "error",
          "ename": "error",
          "evalue": "ignored",
          "traceback": [
            "\u001b[0;31m---------------------------------------------------------------------------\u001b[0m",
            "\u001b[0;31merror\u001b[0m                                     Traceback (most recent call last)",
            "\u001b[0;32m<ipython-input-5-5e53133437e2>\u001b[0m in \u001b[0;36m<module>\u001b[0;34m()\u001b[0m\n\u001b[1;32m     62\u001b[0m \u001b[0;34m\u001b[0m\u001b[0m\n\u001b[1;32m     63\u001b[0m \u001b[0;34m\u001b[0m\u001b[0m\n\u001b[0;32m---> 64\u001b[0;31m \u001b[0mmain\u001b[0m\u001b[0;34m(\u001b[0m\u001b[0;34m)\u001b[0m\u001b[0;34m\u001b[0m\u001b[0;34m\u001b[0m\u001b[0m\n\u001b[0m",
            "\u001b[0;32m<ipython-input-5-5e53133437e2>\u001b[0m in \u001b[0;36mmain\u001b[0;34m()\u001b[0m\n\u001b[1;32m     43\u001b[0m     \u001b[0mpygame\u001b[0m\u001b[0;34m.\u001b[0m\u001b[0minit\u001b[0m\u001b[0;34m(\u001b[0m\u001b[0;34m)\u001b[0m\u001b[0;34m\u001b[0m\u001b[0;34m\u001b[0m\u001b[0m\n\u001b[1;32m     44\u001b[0m     \u001b[0mdisplay\u001b[0m \u001b[0;34m=\u001b[0m \u001b[0;34m(\u001b[0m\u001b[0;36m800\u001b[0m\u001b[0;34m,\u001b[0m\u001b[0;36m600\u001b[0m\u001b[0;34m)\u001b[0m\u001b[0;34m\u001b[0m\u001b[0;34m\u001b[0m\u001b[0m\n\u001b[0;32m---> 45\u001b[0;31m     \u001b[0mpygame\u001b[0m\u001b[0;34m.\u001b[0m\u001b[0mdisplay\u001b[0m\u001b[0;34m.\u001b[0m\u001b[0mset_mode\u001b[0m\u001b[0;34m(\u001b[0m\u001b[0mdisplay\u001b[0m\u001b[0;34m,\u001b[0m \u001b[0mDOUBLEBUF\u001b[0m\u001b[0;34m|\u001b[0m\u001b[0mOPENGL\u001b[0m\u001b[0;34m)\u001b[0m\u001b[0;34m\u001b[0m\u001b[0;34m\u001b[0m\u001b[0m\n\u001b[0m\u001b[1;32m     46\u001b[0m \u001b[0;34m\u001b[0m\u001b[0m\n\u001b[1;32m     47\u001b[0m     \u001b[0mgluPerspective\u001b[0m\u001b[0;34m(\u001b[0m\u001b[0;36m45\u001b[0m\u001b[0;34m,\u001b[0m \u001b[0;34m(\u001b[0m\u001b[0mdisplay\u001b[0m\u001b[0;34m[\u001b[0m\u001b[0;36m0\u001b[0m\u001b[0;34m]\u001b[0m\u001b[0;34m/\u001b[0m\u001b[0mdisplay\u001b[0m\u001b[0;34m[\u001b[0m\u001b[0;36m1\u001b[0m\u001b[0;34m]\u001b[0m\u001b[0;34m)\u001b[0m\u001b[0;34m,\u001b[0m \u001b[0;36m0.1\u001b[0m\u001b[0;34m,\u001b[0m \u001b[0;36m50.0\u001b[0m\u001b[0;34m)\u001b[0m\u001b[0;34m\u001b[0m\u001b[0;34m\u001b[0m\u001b[0m\n",
            "\u001b[0;31merror\u001b[0m: No available video device"
          ]
        }
      ]
    }
  ]
}