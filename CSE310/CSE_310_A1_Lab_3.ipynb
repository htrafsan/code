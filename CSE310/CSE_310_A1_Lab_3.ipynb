{
  "nbformat": 4,
  "nbformat_minor": 0,
  "metadata": {
    "colab": {
      "name": "CSE_310_A1_Lab_3.ipynb",
      "provenance": [],
      "collapsed_sections": []
    },
    "kernelspec": {
      "name": "python3",
      "display_name": "Python 3"
    }
  },
  "cells": [
    {
      "cell_type": "markdown",
      "metadata": {
        "id": "MLZq0ux5X3Vh"
      },
      "source": [
        "**Dictionary**"
      ]
    },
    {
      "cell_type": "code",
      "metadata": {
        "id": "-OYEBQ8tW4xa"
      },
      "source": [
        "# Organization -> 300 employee\n",
        "\n",
        "emp1 = {\n",
        "    \"name\" : \"Efti\",\n",
        "    \"position\" : \"Soft Engineer\",\n",
        "    \"Salary\" : 10,\n",
        "    \"ID\" : 52\n",
        "}\n",
        "\n",
        "emp2 = {\n",
        "    \"name\" : \"Ashfi\",\n",
        "    \"position\" : \"CEO\",\n",
        "    \"Salary\" : 100,\n",
        "    \"ID\" : 520\n",
        "}\n",
        "\n",
        "emp3 = {\n",
        "    \"name\" : \"Rakin\",\n",
        "    \"position\" : \"Manager\",\n",
        "    \"Salary\" : 5,\n",
        "    \"ID\" : 5200\n",
        "}\n"
      ],
      "execution_count": null,
      "outputs": []
    },
    {
      "cell_type": "code",
      "metadata": {
        "id": "aLiA9C9dY0E1"
      },
      "source": [
        "l = [emp1, emp2, emp3]"
      ],
      "execution_count": null,
      "outputs": []
    },
    {
      "cell_type": "code",
      "metadata": {
        "id": "-1eVNRTPY4zj",
        "colab": {
          "base_uri": "https://localhost:8080/",
          "height": 35
        },
        "outputId": "6ca357d7-cdb4-4dcf-8295-24ef3bc6ed33"
      },
      "source": [
        "l[0]"
      ],
      "execution_count": null,
      "outputs": [
        {
          "output_type": "execute_result",
          "data": {
            "text/plain": [
              "{'ID': 52, 'Salary': 10, 'name': 'Efti', 'position': 'Soft Engineer'}"
            ]
          },
          "metadata": {
            "tags": []
          },
          "execution_count": 10
        }
      ]
    },
    {
      "cell_type": "code",
      "metadata": {
        "id": "iL8dRxdHZDs7",
        "colab": {
          "base_uri": "https://localhost:8080/",
          "height": 35
        },
        "outputId": "504c4c99-5b13-4f7a-8bd0-17de3bf32a21"
      },
      "source": [
        "# One solution \n",
        "for emp in l:\n",
        "  if emp[\"name\"] == \"Ashfi\":\n",
        "    print(emp)"
      ],
      "execution_count": null,
      "outputs": [
        {
          "output_type": "stream",
          "text": [
            "{'name': 'Ashfi', 'position': 'CEO', 'Salary': 100, 'ID': 520}\n"
          ],
          "name": "stdout"
        }
      ]
    },
    {
      "cell_type": "code",
      "metadata": {
        "id": "MimdT6EFZNNq",
        "colab": {
          "base_uri": "https://localhost:8080/",
          "height": 35
        },
        "outputId": "efa34de9-77cd-4f33-ce31-7cf8c8249192"
      },
      "source": [
        "all_emp[\"Rakin\"]"
      ],
      "execution_count": null,
      "outputs": [
        {
          "output_type": "execute_result",
          "data": {
            "text/plain": [
              "{'Salary': 5, 'name': 'Rakin', 'position': 'Manager'}"
            ]
          },
          "metadata": {
            "tags": []
          },
          "execution_count": 12
        }
      ]
    },
    {
      "cell_type": "code",
      "metadata": {
        "id": "-zF7komMZjPD"
      },
      "source": [
        "# Another solution (more effective but has a problem)\n",
        "all_emp = {\n",
        "    \"Efti\" : emp1,\n",
        "    \"Ashfi\" : emp2,\n",
        "    \"Rakin\" : emp3,\n",
        "}"
      ],
      "execution_count": null,
      "outputs": []
    },
    {
      "cell_type": "code",
      "metadata": {
        "id": "mFmKi2mFZ7RS"
      },
      "source": [
        "# Another solution (most effective)\n",
        "all_emp = {\n",
        "    52 : emp1,\n",
        "    520 : emp2,\n",
        "    5200 : emp3,\n",
        "}"
      ],
      "execution_count": null,
      "outputs": []
    },
    {
      "cell_type": "code",
      "metadata": {
        "id": "r8vN8QS8agI8"
      },
      "source": [
        "# Another solution (most effective)\n",
        "all_emp = {\n",
        "    52 : emp1,\n",
        "    520 : emp2,\n",
        "    5200 : emp3,\n",
        "}"
      ],
      "execution_count": null,
      "outputs": []
    },
    {
      "cell_type": "code",
      "metadata": {
        "id": "ZuaNlGGAa1Dp"
      },
      "source": [
        "all_emp = {\n",
        "    \n",
        "    52 : {\n",
        "      \"name\" : \"Efti\",\n",
        "      \"position\" : \"Soft Engineer\",\n",
        "      \"Salary\" : 10,\n",
        "      \"ID\" : 52\n",
        "    },\n",
        "\n",
        "    520 : {\n",
        "      \"name\" : \"Ashfi\",\n",
        "      \"position\" : \"CEO\",\n",
        "      \"Salary\" : 100,\n",
        "      \"ID\" : 520\n",
        "    },\n",
        "    \n",
        "    5200 : {\n",
        "      \"name\" : \"Rakin\",\n",
        "      \"position\" : \"Manager\",\n",
        "      \"Salary\" : 5,\n",
        "      \"ID\" : 5200\n",
        "    }\n",
        "\n",
        "}"
      ],
      "execution_count": null,
      "outputs": []
    },
    {
      "cell_type": "code",
      "metadata": {
        "id": "Zo00JIZIbIwN"
      },
      "source": [
        "all_emp = {\n",
        "    emp1[\"ID\"] : emp1,\n",
        "    emp2[\"ID\"] : emp2,\n",
        "    emp3[\"ID\"] : emp3,\n",
        "}"
      ],
      "execution_count": null,
      "outputs": []
    },
    {
      "cell_type": "code",
      "metadata": {
        "id": "JGFcZKuKbOSJ",
        "colab": {
          "base_uri": "https://localhost:8080/",
          "height": 35
        },
        "outputId": "9c093548-8dbb-44b7-88f5-76f40616856e"
      },
      "source": [
        "all_emp[5200]"
      ],
      "execution_count": null,
      "outputs": [
        {
          "output_type": "execute_result",
          "data": {
            "text/plain": [
              "{'ID': 5200, 'Salary': 5, 'name': 'Rakin', 'position': 'Manager'}"
            ]
          },
          "metadata": {
            "tags": []
          },
          "execution_count": 19
        }
      ]
    },
    {
      "cell_type": "code",
      "metadata": {
        "id": "NeIaPCaebsEi",
        "colab": {
          "base_uri": "https://localhost:8080/",
          "height": 35
        },
        "outputId": "91562981-f6c9-4330-af2c-f9b15e522538"
      },
      "source": [
        "print(all_emp[5200])"
      ],
      "execution_count": null,
      "outputs": [
        {
          "output_type": "stream",
          "text": [
            "{'name': 'Rakin', 'position': 'Manager', 'Salary': 5, 'ID': 5200}\n"
          ],
          "name": "stdout"
        }
      ]
    },
    {
      "cell_type": "code",
      "metadata": {
        "id": "SgdG0-hsb3zI",
        "colab": {
          "base_uri": "https://localhost:8080/",
          "height": 54
        },
        "outputId": "f6d8a938-5e70-443c-99a3-8b82b71182a3"
      },
      "source": [
        "print(all_emp[5200][\"name\"])\n",
        "print(all_emp[5200][\"Salary\"])"
      ],
      "execution_count": null,
      "outputs": [
        {
          "output_type": "stream",
          "text": [
            "Rakin\n",
            "5\n"
          ],
          "name": "stdout"
        }
      ]
    }
  ]
}