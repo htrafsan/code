{
  "nbformat": 4,
  "nbformat_minor": 0,
  "metadata": {
    "colab": {
      "name": "BASIC CONVNET.ipynb",
      "provenance": [],
      "authorship_tag": "ABX9TyPBz+qaoAgQvUEMaO9zmtDj",
      "include_colab_link": true
    },
    "kernelspec": {
      "name": "python3",
      "display_name": "Python 3"
    }
  },
  "cells": [
    {
      "cell_type": "markdown",
      "metadata": {
        "id": "view-in-github",
        "colab_type": "text"
      },
      "source": [
        "<a href=\"https://colab.research.google.com/github/CopotronicRifat/CSE-437-PATTERN-RECOGNITION/blob/master/BASIC_CONVNET.ipynb\" target=\"_parent\"><img src=\"https://colab.research.google.com/assets/colab-badge.svg\" alt=\"Open In Colab\"/></a>"
      ]
    },
    {
      "cell_type": "code",
      "metadata": {
        "id": "_dN4_lzBIZCX"
      },
      "source": [
        "import numpy as np\r\n",
        "import pandas as pd\r\n",
        "import random\r\n",
        "import tensorflow as tf\r\n",
        "import matplotlib.pyplot as plt"
      ],
      "execution_count": 1,
      "outputs": []
    },
    {
      "cell_type": "code",
      "metadata": {
        "id": "qRjBTlwDIrgJ"
      },
      "source": [
        "from tensorflow.keras.models import Sequential\r\n",
        "from tensorflow.keras.layers import Flatten, Conv2D, Dense, MaxPooling2D\r\n",
        "from tensorflow.keras.optimizers import SGD\r\n",
        "from tensorflow.keras.utils import to_categorical\r\n",
        "from tensorflow.keras.datasets import mnist"
      ],
      "execution_count": 2,
      "outputs": []
    },
    {
      "cell_type": "code",
      "metadata": {
        "colab": {
          "base_uri": "https://localhost:8080/"
        },
        "id": "OJvERzetJXzt",
        "outputId": "8dee4362-89f4-40ca-9138-787b0187b0fc"
      },
      "source": [
        "(x_train, y_train), (x_test, y_test) = mnist.load_data()\r\n",
        "x_train = x_train.reshape(x_train.shape[0], 28, 28, 1)\r\n",
        "x_train = x_train.astype('float32')/255.0\r\n",
        "y_train = to_categorical(y_train)\r\n"
      ],
      "execution_count": 3,
      "outputs": [
        {
          "output_type": "stream",
          "text": [
            "Downloading data from https://storage.googleapis.com/tensorflow/tf-keras-datasets/mnist.npz\n",
            "11493376/11490434 [==============================] - 0s 0us/step\n"
          ],
          "name": "stdout"
        }
      ]
    },
    {
      "cell_type": "code",
      "metadata": {
        "id": "6BX_36R1KAUS"
      },
      "source": [
        "model = Sequential([\r\n",
        "                    Conv2D(32, (3, 3), activation = 'relu', input_shape = (28, 28, 1)),\r\n",
        "                    MaxPooling2D((2, 2)),\r\n",
        "                    Flatten(),\r\n",
        "                    Dense(100, activation = 'relu'),\r\n",
        "                    Dense(10, activation = 'softmax')\r\n",
        "])"
      ],
      "execution_count": 4,
      "outputs": []
    },
    {
      "cell_type": "code",
      "metadata": {
        "id": "6q26uviYKz6u"
      },
      "source": [
        "optimizer = SGD(learning_rate = 0.01, momentum = 0.9)\r\n",
        "\r\n",
        "model.compile(optimizer = optimizer,\r\n",
        "              loss = 'categorical_crossentropy',\r\n",
        "              metrics = ['accuracy']\r\n",
        "              )\r\n",
        "\r\n"
      ],
      "execution_count": 6,
      "outputs": []
    },
    {
      "cell_type": "code",
      "metadata": {
        "colab": {
          "base_uri": "https://localhost:8080/"
        },
        "id": "OOQ4RlDjLltl",
        "outputId": "098dc897-ab4f-48ae-9e19-b465a9040796"
      },
      "source": [
        "history = model.fit(x_train, y_train, epochs = 10, batch_size = 32)"
      ],
      "execution_count": 7,
      "outputs": [
        {
          "output_type": "stream",
          "text": [
            "Epoch 1/10\n",
            "1875/1875 [==============================] - 28s 15ms/step - loss: 0.4322 - accuracy: 0.8696\n",
            "Epoch 2/10\n",
            "1875/1875 [==============================] - 27s 15ms/step - loss: 0.0810 - accuracy: 0.9764\n",
            "Epoch 3/10\n",
            "1875/1875 [==============================] - 27s 15ms/step - loss: 0.0520 - accuracy: 0.9843\n",
            "Epoch 4/10\n",
            "1875/1875 [==============================] - 27s 15ms/step - loss: 0.0335 - accuracy: 0.9897\n",
            "Epoch 5/10\n",
            "1875/1875 [==============================] - 28s 15ms/step - loss: 0.0224 - accuracy: 0.9937\n",
            "Epoch 6/10\n",
            "1875/1875 [==============================] - 27s 15ms/step - loss: 0.0161 - accuracy: 0.9958\n",
            "Epoch 7/10\n",
            "1875/1875 [==============================] - 28s 15ms/step - loss: 0.0140 - accuracy: 0.9960\n",
            "Epoch 8/10\n",
            "1875/1875 [==============================] - 28s 15ms/step - loss: 0.0097 - accuracy: 0.9971\n",
            "Epoch 9/10\n",
            "1875/1875 [==============================] - 27s 15ms/step - loss: 0.0080 - accuracy: 0.9978\n",
            "Epoch 10/10\n",
            "1875/1875 [==============================] - 27s 14ms/step - loss: 0.0050 - accuracy: 0.9990\n"
          ],
          "name": "stdout"
        }
      ]
    },
    {
      "cell_type": "code",
      "metadata": {
        "colab": {
          "base_uri": "https://localhost:8080/",
          "height": 282
        },
        "id": "wDIEBzs5L6ZO",
        "outputId": "54d94549-e1cd-47d5-8249-6283e257b911"
      },
      "source": [
        "image = random.choice(x_test)\r\n",
        "plt.imshow(image, cmap = plt.get_cmap('gray'))\r\n",
        "plt.show()\r\n",
        "image = (image.reshape((1, 28, 28, 1))).astype('float32')/255.0\r\n",
        "digit = np.argmax(model.predict(image)[0], axis = -1)\r\n",
        "print(\"Prediction: \", digit)"
      ],
      "execution_count": 11,
      "outputs": [
        {
          "output_type": "display_data",
          "data": {
            "image/png": "[encoded data removed]",
            "text/plain": [
              "<Figure size 432x288 with 1 Axes>"
            ]
          },
          "metadata": {
            "tags": [],
            "needs_background": "light"
          }
        },
        {
          "output_type": "stream",
          "text": [
            "Prediction:  6\n"
          ],
          "name": "stdout"
        }
      ]
    }
  ]
}